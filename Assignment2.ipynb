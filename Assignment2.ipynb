{
  "nbformat": 4,
  "nbformat_minor": 0,
  "metadata": {
    "colab": {
      "name": "Assignment2.ipynb",
      "provenance": [],
      "authorship_tag": "ABX9TyMh6ajebwn5AxZPCupPqr77",
      "include_colab_link": true
    },
    "kernelspec": {
      "name": "python3",
      "display_name": "Python 3"
    },
    "language_info": {
      "name": "python"
    }
  },
  "cells": [
    {
      "cell_type": "markdown",
      "metadata": {
        "id": "view-in-github",
        "colab_type": "text"
      },
      "source": [
        "<a href=\"https://colab.research.google.com/github/belikeamitesh/CS306-Machine-Learning/blob/main/Assignment2.ipynb\" target=\"_parent\"><img src=\"https://colab.research.google.com/assets/colab-badge.svg\" alt=\"Open In Colab\"/></a>"
      ]
    },
    {
      "cell_type": "code",
      "metadata": {
        "id": "CQlA-xv_LHTc"
      },
      "source": [
        ""
      ],
      "execution_count": null,
      "outputs": []
    },
    {
      "cell_type": "markdown",
      "metadata": {
        "id": "NsNm8QqzMRE7"
      },
      "source": [
        "1. Write a python program to read the dataset and print the number\n",
        "of features, number of patterns, range of output available in\n",
        "the dataset."
      ]
    },
    {
      "cell_type": "code",
      "metadata": {
        "colab": {
          "base_uri": "https://localhost:8080/",
          "height": 203
        },
        "id": "B0pU7mGiMUuY",
        "outputId": "873d87d0-7034-4444-d8f2-43a1bc106c31"
      },
      "source": [
        "import pandas as pd\n",
        "df = pd.read_csv('salary_data.csv')\n",
        "df.head()"
      ],
      "execution_count": null,
      "outputs": [
        {
          "output_type": "execute_result",
          "data": {
            "text/html": [
              "<div>\n",
              "<style scoped>\n",
              "    .dataframe tbody tr th:only-of-type {\n",
              "        vertical-align: middle;\n",
              "    }\n",
              "\n",
              "    .dataframe tbody tr th {\n",
              "        vertical-align: top;\n",
              "    }\n",
              "\n",
              "    .dataframe thead th {\n",
              "        text-align: right;\n",
              "    }\n",
              "</style>\n",
              "<table border=\"1\" class=\"dataframe\">\n",
              "  <thead>\n",
              "    <tr style=\"text-align: right;\">\n",
              "      <th></th>\n",
              "      <th>YearsExperience</th>\n",
              "      <th>Salary</th>\n",
              "    </tr>\n",
              "  </thead>\n",
              "  <tbody>\n",
              "    <tr>\n",
              "      <th>0</th>\n",
              "      <td>1.1</td>\n",
              "      <td>39343</td>\n",
              "    </tr>\n",
              "    <tr>\n",
              "      <th>1</th>\n",
              "      <td>1.3</td>\n",
              "      <td>46205</td>\n",
              "    </tr>\n",
              "    <tr>\n",
              "      <th>2</th>\n",
              "      <td>1.5</td>\n",
              "      <td>37731</td>\n",
              "    </tr>\n",
              "    <tr>\n",
              "      <th>3</th>\n",
              "      <td>2.0</td>\n",
              "      <td>43525</td>\n",
              "    </tr>\n",
              "    <tr>\n",
              "      <th>4</th>\n",
              "      <td>2.2</td>\n",
              "      <td>39891</td>\n",
              "    </tr>\n",
              "  </tbody>\n",
              "</table>\n",
              "</div>"
            ],
            "text/plain": [
              "   YearsExperience  Salary\n",
              "0              1.1   39343\n",
              "1              1.3   46205\n",
              "2              1.5   37731\n",
              "3              2.0   43525\n",
              "4              2.2   39891"
            ]
          },
          "metadata": {
            "tags": []
          },
          "execution_count": 1
        }
      ]
    },
    {
      "cell_type": "code",
      "metadata": {
        "colab": {
          "base_uri": "https://localhost:8080/"
        },
        "id": "lv-fmVJ9M_N7",
        "outputId": "3bf657ba-c7bf-4415-c238-4ae22a9fe56a"
      },
      "source": [
        "#Number of features, Number of patterns, Range of output available\n",
        "numberPatterns = df.shape[0]\n",
        "numberFeatures = df.shape[1] -1\n",
        "print(\"Number of Patterns : \",numberPatterns)\n",
        "print(\"Number of Features : \",numberFeatures)\n",
        "\n",
        "#range\n",
        "min_sal = df['Salary'].min()\n",
        "max_sal = df['Salary'].max()\n",
        "print('Range of output : ',(min_sal,max_sal))"
      ],
      "execution_count": null,
      "outputs": [
        {
          "output_type": "stream",
          "text": [
            "Number of Patterns :  30\n",
            "Number of Features :  1\n",
            "Range of output :  (37731, 122391)\n"
          ],
          "name": "stdout"
        }
      ]
    },
    {
      "cell_type": "markdown",
      "metadata": {
        "id": "klK152p1SmVl"
      },
      "source": [
        "2. Write a program to randomly split the dataset in X:Y ratio.\n",
        "Here, the values of X and Y are as follows (X+Y = 100% always):\n",
        "a. X = 10:10:90 (i.e., initial: 10%, increment by 10%,\n",
        "maximum is 90%)\n",
        "b. Y = 90:10:10 (i.e., initial: 90%, decrement by 10%,\n",
        "minimum is 10%)"
      ]
    },
    {
      "cell_type": "code",
      "metadata": {
        "colab": {
          "base_uri": "https://localhost:8080/"
        },
        "id": "-lKrOkInSs4_",
        "outputId": "110ee997-ca92-47d2-db63-abe8f4c11ccc"
      },
      "source": [
        "import numpy as np\n",
        "import random\n",
        "rows = df.shape[0]\n",
        "cols = df.shape[1]\n",
        "for i in np.arange(0.1,1,0.1):\n",
        "  xnum = round(i*rows)\n",
        "  xIndex = random.sample(range(0,rows),xnum)\n",
        "  yIndex= []\n",
        "  for j in range(rows):\n",
        "    if j not in xIndex:\n",
        "      yIndex.append(j)\n",
        "  x_split = df.iloc[xIndex]\n",
        "  y_split = df.iloc[yIndex]\n",
        "  print(x_split)\n",
        "  print(y_split)\n",
        "  print(\"\\n\")"
      ],
      "execution_count": null,
      "outputs": [
        {
          "output_type": "stream",
          "text": [
            "    YearsExperience  Salary\n",
            "0               1.1   39343\n",
            "16              5.1   66029\n",
            "1               1.3   46205\n",
            "    YearsExperience  Salary\n",
            "2               1.5   37731\n",
            "3               2.0   43525\n",
            "4               2.2   39891\n",
            "5               2.9   56642\n",
            "6               3.0   60150\n",
            "7               3.2   54445\n",
            "8               3.2   64445\n",
            "9               3.7   57189\n",
            "10              3.9   63218\n",
            "11              4.0   55794\n",
            "12              4.0   56957\n",
            "13              4.1   57081\n",
            "14              4.5   61111\n",
            "15              4.9   67938\n",
            "17              5.3   83088\n",
            "18              5.9   81363\n",
            "19              6.0   93940\n",
            "20              6.8   91738\n",
            "21              7.1   98273\n",
            "22              7.9  101302\n",
            "23              8.2  113812\n",
            "24              8.7  109431\n",
            "25              9.0  105582\n",
            "26              9.5  116969\n",
            "27              9.6  112635\n",
            "28             10.3  122391\n",
            "29             10.5  121872\n",
            "\n",
            "\n",
            "    YearsExperience  Salary\n",
            "4               2.2   39891\n",
            "3               2.0   43525\n",
            "10              3.9   63218\n",
            "0               1.1   39343\n",
            "7               3.2   54445\n",
            "9               3.7   57189\n",
            "    YearsExperience  Salary\n",
            "1               1.3   46205\n",
            "2               1.5   37731\n",
            "5               2.9   56642\n",
            "6               3.0   60150\n",
            "8               3.2   64445\n",
            "11              4.0   55794\n",
            "12              4.0   56957\n",
            "13              4.1   57081\n",
            "14              4.5   61111\n",
            "15              4.9   67938\n",
            "16              5.1   66029\n",
            "17              5.3   83088\n",
            "18              5.9   81363\n",
            "19              6.0   93940\n",
            "20              6.8   91738\n",
            "21              7.1   98273\n",
            "22              7.9  101302\n",
            "23              8.2  113812\n",
            "24              8.7  109431\n",
            "25              9.0  105582\n",
            "26              9.5  116969\n",
            "27              9.6  112635\n",
            "28             10.3  122391\n",
            "29             10.5  121872\n",
            "\n",
            "\n",
            "    YearsExperience  Salary\n",
            "28             10.3  122391\n",
            "6               3.0   60150\n",
            "26              9.5  116969\n",
            "22              7.9  101302\n",
            "5               2.9   56642\n",
            "10              3.9   63218\n",
            "2               1.5   37731\n",
            "7               3.2   54445\n",
            "20              6.8   91738\n",
            "    YearsExperience  Salary\n",
            "0               1.1   39343\n",
            "1               1.3   46205\n",
            "3               2.0   43525\n",
            "4               2.2   39891\n",
            "8               3.2   64445\n",
            "9               3.7   57189\n",
            "11              4.0   55794\n",
            "12              4.0   56957\n",
            "13              4.1   57081\n",
            "14              4.5   61111\n",
            "15              4.9   67938\n",
            "16              5.1   66029\n",
            "17              5.3   83088\n",
            "18              5.9   81363\n",
            "19              6.0   93940\n",
            "21              7.1   98273\n",
            "23              8.2  113812\n",
            "24              8.7  109431\n",
            "25              9.0  105582\n",
            "27              9.6  112635\n",
            "29             10.5  121872\n",
            "\n",
            "\n",
            "    YearsExperience  Salary\n",
            "10              3.9   63218\n",
            "16              5.1   66029\n",
            "15              4.9   67938\n",
            "6               3.0   60150\n",
            "25              9.0  105582\n",
            "17              5.3   83088\n",
            "20              6.8   91738\n",
            "19              6.0   93940\n",
            "12              4.0   56957\n",
            "13              4.1   57081\n",
            "8               3.2   64445\n",
            "2               1.5   37731\n",
            "    YearsExperience  Salary\n",
            "0               1.1   39343\n",
            "1               1.3   46205\n",
            "3               2.0   43525\n",
            "4               2.2   39891\n",
            "5               2.9   56642\n",
            "7               3.2   54445\n",
            "9               3.7   57189\n",
            "11              4.0   55794\n",
            "14              4.5   61111\n",
            "18              5.9   81363\n",
            "21              7.1   98273\n",
            "22              7.9  101302\n",
            "23              8.2  113812\n",
            "24              8.7  109431\n",
            "26              9.5  116969\n",
            "27              9.6  112635\n",
            "28             10.3  122391\n",
            "29             10.5  121872\n",
            "\n",
            "\n",
            "    YearsExperience  Salary\n",
            "6               3.0   60150\n",
            "2               1.5   37731\n",
            "18              5.9   81363\n",
            "19              6.0   93940\n",
            "5               2.9   56642\n",
            "4               2.2   39891\n",
            "7               3.2   54445\n",
            "11              4.0   55794\n",
            "23              8.2  113812\n",
            "10              3.9   63218\n",
            "12              4.0   56957\n",
            "29             10.5  121872\n",
            "27              9.6  112635\n",
            "25              9.0  105582\n",
            "15              4.9   67938\n",
            "    YearsExperience  Salary\n",
            "0               1.1   39343\n",
            "1               1.3   46205\n",
            "3               2.0   43525\n",
            "8               3.2   64445\n",
            "9               3.7   57189\n",
            "13              4.1   57081\n",
            "14              4.5   61111\n",
            "16              5.1   66029\n",
            "17              5.3   83088\n",
            "20              6.8   91738\n",
            "21              7.1   98273\n",
            "22              7.9  101302\n",
            "24              8.7  109431\n",
            "26              9.5  116969\n",
            "28             10.3  122391\n",
            "\n",
            "\n",
            "    YearsExperience  Salary\n",
            "13              4.1   57081\n",
            "11              4.0   55794\n",
            "19              6.0   93940\n",
            "25              9.0  105582\n",
            "22              7.9  101302\n",
            "17              5.3   83088\n",
            "4               2.2   39891\n",
            "9               3.7   57189\n",
            "18              5.9   81363\n",
            "12              4.0   56957\n",
            "15              4.9   67938\n",
            "21              7.1   98273\n",
            "26              9.5  116969\n",
            "28             10.3  122391\n",
            "1               1.3   46205\n",
            "24              8.7  109431\n",
            "29             10.5  121872\n",
            "7               3.2   54445\n",
            "    YearsExperience  Salary\n",
            "0               1.1   39343\n",
            "2               1.5   37731\n",
            "3               2.0   43525\n",
            "5               2.9   56642\n",
            "6               3.0   60150\n",
            "8               3.2   64445\n",
            "10              3.9   63218\n",
            "14              4.5   61111\n",
            "16              5.1   66029\n",
            "20              6.8   91738\n",
            "23              8.2  113812\n",
            "27              9.6  112635\n",
            "\n",
            "\n",
            "    YearsExperience  Salary\n",
            "2               1.5   37731\n",
            "28             10.3  122391\n",
            "26              9.5  116969\n",
            "10              3.9   63218\n",
            "16              5.1   66029\n",
            "24              8.7  109431\n",
            "29             10.5  121872\n",
            "15              4.9   67938\n",
            "6               3.0   60150\n",
            "14              4.5   61111\n",
            "8               3.2   64445\n",
            "19              6.0   93940\n",
            "27              9.6  112635\n",
            "7               3.2   54445\n",
            "17              5.3   83088\n",
            "25              9.0  105582\n",
            "9               3.7   57189\n",
            "12              4.0   56957\n",
            "3               2.0   43525\n",
            "20              6.8   91738\n",
            "11              4.0   55794\n",
            "    YearsExperience  Salary\n",
            "0               1.1   39343\n",
            "1               1.3   46205\n",
            "4               2.2   39891\n",
            "5               2.9   56642\n",
            "13              4.1   57081\n",
            "18              5.9   81363\n",
            "21              7.1   98273\n",
            "22              7.9  101302\n",
            "23              8.2  113812\n",
            "\n",
            "\n",
            "    YearsExperience  Salary\n",
            "8               3.2   64445\n",
            "19              6.0   93940\n",
            "21              7.1   98273\n",
            "26              9.5  116969\n",
            "22              7.9  101302\n",
            "18              5.9   81363\n",
            "20              6.8   91738\n",
            "3               2.0   43525\n",
            "24              8.7  109431\n",
            "14              4.5   61111\n",
            "2               1.5   37731\n",
            "7               3.2   54445\n",
            "15              4.9   67938\n",
            "6               3.0   60150\n",
            "4               2.2   39891\n",
            "13              4.1   57081\n",
            "11              4.0   55794\n",
            "12              4.0   56957\n",
            "1               1.3   46205\n",
            "17              5.3   83088\n",
            "29             10.5  121872\n",
            "25              9.0  105582\n",
            "9               3.7   57189\n",
            "27              9.6  112635\n",
            "    YearsExperience  Salary\n",
            "0               1.1   39343\n",
            "5               2.9   56642\n",
            "10              3.9   63218\n",
            "16              5.1   66029\n",
            "23              8.2  113812\n",
            "28             10.3  122391\n",
            "\n",
            "\n",
            "    YearsExperience  Salary\n",
            "17              5.3   83088\n",
            "0               1.1   39343\n",
            "9               3.7   57189\n",
            "22              7.9  101302\n",
            "8               3.2   64445\n",
            "18              5.9   81363\n",
            "13              4.1   57081\n",
            "28             10.3  122391\n",
            "26              9.5  116969\n",
            "16              5.1   66029\n",
            "15              4.9   67938\n",
            "6               3.0   60150\n",
            "1               1.3   46205\n",
            "4               2.2   39891\n",
            "23              8.2  113812\n",
            "5               2.9   56642\n",
            "25              9.0  105582\n",
            "12              4.0   56957\n",
            "29             10.5  121872\n",
            "10              3.9   63218\n",
            "21              7.1   98273\n",
            "19              6.0   93940\n",
            "2               1.5   37731\n",
            "27              9.6  112635\n",
            "3               2.0   43525\n",
            "20              6.8   91738\n",
            "24              8.7  109431\n",
            "    YearsExperience  Salary\n",
            "7               3.2   54445\n",
            "11              4.0   55794\n",
            "14              4.5   61111\n",
            "\n",
            "\n"
          ],
          "name": "stdout"
        }
      ]
    },
    {
      "cell_type": "markdown",
      "metadata": {
        "id": "XhgCgTycWhbB"
      },
      "source": [
        "3. Write a program to calculate the row-wise,column-wise, and\n",
        "overall mean, median, mode, and standard deviation of the\n",
        "dataset."
      ]
    },
    {
      "cell_type": "code",
      "metadata": {
        "colab": {
          "base_uri": "https://localhost:8080/"
        },
        "id": "Z26SjOejWjMr",
        "outputId": "b46e20a5-f594-4542-bdf2-b40eb7a23458"
      },
      "source": [
        "#DataFrame.mean(axis=None{index (0), columns (1)}, skipna=None(skip N/A None values), level=None(along particular level), numeric_only=None(can be only int,bool,float etc))\n",
        "\n",
        "row_wise_mean = df.mean(axis=1)\n",
        "print(\"Row wise mean : \\n\",row_wise_mean)"
      ],
      "execution_count": null,
      "outputs": [
        {
          "output_type": "stream",
          "text": [
            "Row wise mean : \n",
            " 0     19672.05\n",
            "1     23103.15\n",
            "2     18866.25\n",
            "3     21763.50\n",
            "4     19946.60\n",
            "5     28322.45\n",
            "6     30076.50\n",
            "7     27224.10\n",
            "8     32224.10\n",
            "9     28596.35\n",
            "10    31610.95\n",
            "11    27899.00\n",
            "12    28480.50\n",
            "13    28542.55\n",
            "14    30557.75\n",
            "15    33971.45\n",
            "16    33017.05\n",
            "17    41546.65\n",
            "18    40684.45\n",
            "19    46973.00\n",
            "20    45872.40\n",
            "21    49140.05\n",
            "22    50654.95\n",
            "23    56910.10\n",
            "24    54719.85\n",
            "25    52795.50\n",
            "26    58489.25\n",
            "27    56322.30\n",
            "28    61200.65\n",
            "29    60941.25\n",
            "dtype: float64\n"
          ],
          "name": "stdout"
        }
      ]
    },
    {
      "cell_type": "code",
      "metadata": {
        "colab": {
          "base_uri": "https://localhost:8080/"
        },
        "id": "khHhp7YQa1M8",
        "outputId": "04c2feba-6ed8-4d60-ff54-34e40ca3d345"
      },
      "source": [
        "col_wise_mean = df.mean(axis=0)\n",
        "print(\"Column wise mean : \\n\",col_wise_mean)"
      ],
      "execution_count": null,
      "outputs": [
        {
          "output_type": "stream",
          "text": [
            "Column wise mean : \n",
            " YearsExperience        5.313333\n",
            "Salary             76003.000000\n",
            "dtype: float64\n"
          ],
          "name": "stdout"
        }
      ]
    },
    {
      "cell_type": "code",
      "metadata": {
        "colab": {
          "base_uri": "https://localhost:8080/"
        },
        "id": "Fht3MGvzgM1I",
        "outputId": "934acbfb-3971-4e17-b81a-8808a8d148ae"
      },
      "source": [
        "row_wise_median = df.median(axis=1)\n",
        "print(\"Row wise median : \\n\",row_wise_mean)"
      ],
      "execution_count": null,
      "outputs": [
        {
          "output_type": "stream",
          "text": [
            "Row wise median : \n",
            " 0     19672.05\n",
            "1     23103.15\n",
            "2     18866.25\n",
            "3     21763.50\n",
            "4     19946.60\n",
            "5     28322.45\n",
            "6     30076.50\n",
            "7     27224.10\n",
            "8     32224.10\n",
            "9     28596.35\n",
            "10    31610.95\n",
            "11    27899.00\n",
            "12    28480.50\n",
            "13    28542.55\n",
            "14    30557.75\n",
            "15    33971.45\n",
            "16    33017.05\n",
            "17    41546.65\n",
            "18    40684.45\n",
            "19    46973.00\n",
            "20    45872.40\n",
            "21    49140.05\n",
            "22    50654.95\n",
            "23    56910.10\n",
            "24    54719.85\n",
            "25    52795.50\n",
            "26    58489.25\n",
            "27    56322.30\n",
            "28    61200.65\n",
            "29    60941.25\n",
            "dtype: float64\n"
          ],
          "name": "stdout"
        }
      ]
    },
    {
      "cell_type": "code",
      "metadata": {
        "colab": {
          "base_uri": "https://localhost:8080/"
        },
        "id": "oyybVOi8g1VT",
        "outputId": "3b65e632-4ceb-4faf-efd0-8e7b6e206fb0"
      },
      "source": [
        "col_wise_median = df.median(axis=0)\n",
        "print(\"Column wise median : \\n\",col_wise_median)"
      ],
      "execution_count": null,
      "outputs": [
        {
          "output_type": "stream",
          "text": [
            "Column wise median : \n",
            " YearsExperience        4.7\n",
            "Salary             65237.0\n",
            "dtype: float64\n"
          ],
          "name": "stdout"
        }
      ]
    },
    {
      "cell_type": "code",
      "metadata": {
        "colab": {
          "base_uri": "https://localhost:8080/"
        },
        "id": "1kwyNxfzhfIO",
        "outputId": "7c60edda-02ed-4655-a42f-fdd658a31040"
      },
      "source": [
        "row_wise_stdev = df.std(axis=1)\n",
        "print(\"Row wise Standard Deviation : \\n\",row_wise_stdev)"
      ],
      "execution_count": null,
      "outputs": [
        {
          "output_type": "stream",
          "text": [
            "Row wise Standard Deviation : \n",
            " 0     27818.924275\n",
            "1     32670.949586\n",
            "2     26678.785301\n",
            "3     30775.408438\n",
            "4     28205.640973\n",
            "5     40049.891690\n",
            "6     42530.351568\n",
            "7     38496.165960\n",
            "8     45567.233772\n",
            "9     40436.113414\n",
            "10    44699.118777\n",
            "11    39449.487322\n",
            "12    40271.852509\n",
            "13    40359.463039\n",
            "14    43208.820525\n",
            "15    48035.955677\n",
            "16    46685.947410\n",
            "17    58748.340569\n",
            "18    57528.157108\n",
            "19    66421.368384\n",
            "20    64863.753566\n",
            "21    69484.484249\n",
            "22    71625.745004\n",
            "23    80471.438705\n",
            "24    77373.250343\n",
            "25    74651.384210\n",
            "26    82702.855574\n",
            "27    79638.184074\n",
            "28    86536.222856\n",
            "29    86169.093016\n",
            "dtype: float64\n"
          ],
          "name": "stdout"
        }
      ]
    },
    {
      "cell_type": "code",
      "metadata": {
        "colab": {
          "base_uri": "https://localhost:8080/"
        },
        "id": "thqtvMHoh3fU",
        "outputId": "f5a92050-1cb2-4ad9-c2b5-67f33470a04c"
      },
      "source": [
        "col_wise_stdev = df.std(axis=0)\n",
        "print(\"Column wise Standard Deviation : \\n\",col_wise_stdev)"
      ],
      "execution_count": null,
      "outputs": [
        {
          "output_type": "stream",
          "text": [
            "Column wise Standard Deviation : \n",
            " YearsExperience        2.837888\n",
            "Salary             27414.429785\n",
            "dtype: float64\n"
          ],
          "name": "stdout"
        }
      ]
    },
    {
      "cell_type": "code",
      "metadata": {
        "colab": {
          "base_uri": "https://localhost:8080/"
        },
        "id": "vHNl4wnnbCPL",
        "outputId": "aef133f8-59b9-46b9-c1e8-6d5d1112d824"
      },
      "source": [
        "overall_mean = df.mean().mean()\n",
        "overall_median = df.stack().median()\n",
        "#convert dataframe to single coloumn by stack and then take the std deviation \n",
        "overall_stdev = df.stack().std()\n",
        "overall_mode = df.mode()\n",
        "\n",
        "print(\"Overall Mean : \",overall_mean)\n",
        "print(\"\\n\")\n",
        "print(\"Overall Median : \\n\",overall_median)\n",
        "print(\"\\n\")\n",
        "print(\"Overall Standar Deviation : \",overall_stdev)\n",
        "print(\"\\n\")\n",
        "print(\"Overall Mode : \\n\",overall_mode)"
      ],
      "execution_count": null,
      "outputs": [
        {
          "output_type": "stream",
          "text": [
            "Overall Mean :  38004.15666666667\n",
            "\n",
            "\n",
            "Overall Median : \n",
            " 18870.75\n",
            "\n",
            "\n",
            "Overall Standar Deviation :  42869.47152988138\n",
            "\n",
            "\n",
            "Overall Mode : \n",
            "     YearsExperience  Salary\n",
            "0               3.2   37731\n",
            "1               4.0   39343\n",
            "2               NaN   39891\n",
            "3               NaN   43525\n",
            "4               NaN   46205\n",
            "5               NaN   54445\n",
            "6               NaN   55794\n",
            "7               NaN   56642\n",
            "8               NaN   56957\n",
            "9               NaN   57081\n",
            "10              NaN   57189\n",
            "11              NaN   60150\n",
            "12              NaN   61111\n",
            "13              NaN   63218\n",
            "14              NaN   64445\n",
            "15              NaN   66029\n",
            "16              NaN   67938\n",
            "17              NaN   81363\n",
            "18              NaN   83088\n",
            "19              NaN   91738\n",
            "20              NaN   93940\n",
            "21              NaN   98273\n",
            "22              NaN  101302\n",
            "23              NaN  105582\n",
            "24              NaN  109431\n",
            "25              NaN  112635\n",
            "26              NaN  113812\n",
            "27              NaN  116969\n",
            "28              NaN  121872\n",
            "29              NaN  122391\n"
          ],
          "name": "stdout"
        }
      ]
    },
    {
      "cell_type": "code",
      "metadata": {
        "id": "5FsAi_SOmW3y"
      },
      "source": [
        ""
      ],
      "execution_count": null,
      "outputs": []
    },
    {
      "cell_type": "markdown",
      "metadata": {
        "id": "KX06uFtImXqI"
      },
      "source": [
        "4. Calculate the sum square error for polynomial curve fitting\n",
        "problem using the dataset."
      ]
    },
    {
      "cell_type": "code",
      "metadata": {
        "colab": {
          "base_uri": "https://localhost:8080/",
          "height": 279
        },
        "id": "mk5BqDbLmb_H",
        "outputId": "8e218349-2d3a-450c-9cb9-ed7d1929cf9f"
      },
      "source": [
        "import matplotlib.pyplot as plt\n",
        "x = df.iloc[:,0]\n",
        "y = df.iloc[:,-1]\n",
        "plt.xlabel(\"Years of Experience\")\n",
        "plt.ylabel(\"Salary\")\n",
        "plt.scatter(x,y)\n",
        "plt.show()"
      ],
      "execution_count": null,
      "outputs": [
        {
          "output_type": "display_data",
          "data": {
            "image/png": "[encoded data removed]",
            "text/plain": [
              "<Figure size 432x288 with 1 Axes>"
            ]
          },
          "metadata": {
            "tags": [],
            "needs_background": "light"
          }
        }
      ]
    },
    {
      "cell_type": "code",
      "metadata": {
        "id": "Oo_6D4l8u6i4"
      },
      "source": [
        ""
      ],
      "execution_count": null,
      "outputs": []
    }
  ]
}