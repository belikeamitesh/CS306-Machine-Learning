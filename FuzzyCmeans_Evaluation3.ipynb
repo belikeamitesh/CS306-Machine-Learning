{
  "nbformat": 4,
  "nbformat_minor": 0,
  "metadata": {
    "colab": {
      "name": "FuzzyCmeans-Evaluation3.ipynb",
      "provenance": [],
      "authorship_tag": "ABX9TyOyNOdIsz1tkPzRqAdepVsn",
      "include_colab_link": true
    },
    "kernelspec": {
      "name": "python3",
      "display_name": "Python 3"
    },
    "language_info": {
      "name": "python"
    }
  },
  "cells": [
    {
      "cell_type": "markdown",
      "metadata": {
        "id": "view-in-github",
        "colab_type": "text"
      },
      "source": [
        "<a href=\"https://colab.research.google.com/github/belikeamitesh/CS306-Machine-Learning/blob/main/FuzzyCmeans_Evaluation3.ipynb\" target=\"_parent\"><img src=\"https://colab.research.google.com/assets/colab-badge.svg\" alt=\"Open In Colab\"/></a>"
      ]
    },
    {
      "cell_type": "code",
      "metadata": {
        "id": "2U42vOCmt5A0"
      },
      "source": [
        "import numpy as np\n",
        "import pandas as pd\n",
        "import matplotlib.pyplot as plt\n",
        "from sklearn import metrics\n",
        "from sklearn.cluster import KMeans\n",
        "import random\n",
        "from random import randrange\n",
        "from sklearn.datasets import load_boston\n",
        "from sklearn import datasets\n",
        "from sklearn.model_selection import train_test_split\n",
        "import math"
      ],
      "execution_count": null,
      "outputs": []
    },
    {
      "cell_type": "markdown",
      "metadata": {
        "id": "ZBYjc9pXw6qe"
      },
      "source": [
        "1. Implement the Fuzzy C-means clustering algorithm (own code with\n",
        "K = 3) using the IRIS dataset. Report the results using the\n",
        "silhouette coefficient and sse indices. Also report the final\n",
        "partition matrix."
      ]
    },
    {
      "cell_type": "code",
      "metadata": {
        "colab": {
          "base_uri": "https://localhost:8080/"
        },
        "id": "oed_60Zzu8C7",
        "outputId": "514746c2-678f-42da-987b-e9a436727d91"
      },
      "source": [
        "# importing iris dataset as said in question\n",
        "data = pd.DataFrame((datasets.load_iris()).data)\n",
        "target = pd.DataFrame((datasets.load_iris()).target)\n",
        "print(data.head())\n",
        "print(target)\n",
        "print('No. of Features : ',df.shape[1])"
      ],
      "execution_count": null,
      "outputs": [
        {
          "output_type": "stream",
          "name": "stdout",
          "text": [
            "     0    1    2    3\n",
            "0  5.1  3.5  1.4  0.2\n",
            "1  4.9  3.0  1.4  0.2\n",
            "2  4.7  3.2  1.3  0.2\n",
            "3  4.6  3.1  1.5  0.2\n",
            "4  5.0  3.6  1.4  0.2\n",
            "     0\n",
            "0    0\n",
            "1    0\n",
            "2    0\n",
            "3    0\n",
            "4    0\n",
            "..  ..\n",
            "145  2\n",
            "146  2\n",
            "147  2\n",
            "148  2\n",
            "149  2\n",
            "\n",
            "[150 rows x 1 columns]\n",
            "No. of Features :  4\n"
          ]
        }
      ]
    },
    {
      "cell_type": "code",
      "metadata": {
        "id": "GvMgKR3evCPP"
      },
      "source": [
        "df = data;\n",
        "df = df.sample(frac = 1)"
      ],
      "execution_count": null,
      "outputs": []
    },
    {
      "cell_type": "code",
      "metadata": {
        "id": "hCQtjo-mvKsM"
      },
      "source": [
        "# sum squared error\n",
        "def sse(c,a,assignedCluster):\n",
        "  sse = 0\n",
        "  for i in range(len(a)):\n",
        "    sse += np.linalg.norm(a[i] - c[assignedCluster[i]])\n",
        "  return sse"
      ],
      "execution_count": null,
      "outputs": []
    },
    {
      "cell_type": "code",
      "metadata": {
        "id": "VUpXtMZvvHlL"
      },
      "source": [
        "# function for the initializing Partition Matrix\n",
        "def intializePartitionMatrix(n,c):\n",
        "  newm = []\n",
        "  # n patterns and c clusters\n",
        "  for i in range(n):\n",
        "    x = []\n",
        "    for j in range(c):\n",
        "      x.append(random.uniform(0,1))\n",
        "    newm.append(x)\n",
        "  # doing so the sum of all memebership values is 1\n",
        "  for i in range(n):\n",
        "    sum = 0\n",
        "    for j in newm[i]:\n",
        "      sum += j\n",
        "    newm[i] = [x/sum for x in newm[i]]\n",
        "  return newm"
      ],
      "execution_count": null,
      "outputs": []
    },
    {
      "cell_type": "markdown",
      "metadata": {
        "id": "tZmHRC0m97D0"
      },
      "source": [
        "Fuzzy C Mean Algorithm"
      ]
    },
    {
      "cell_type": "code",
      "metadata": {
        "id": "1J1QTFDGvWZz"
      },
      "source": [
        "def FuzzyCMean(df,k,m,maxIterations):\n",
        "  partitionMatrix = intializePartitionMatrix(len(df),k)\n",
        "  a = list(df.values)\n",
        "  n = len(a)\n",
        "  numFeatures = len(a[0])\n",
        "  # Initializing centers with 0 ( number of clusters * number of features)\n",
        "  # took care of row sum =1\n",
        "  c = [[0 for j in range(numFeatures)] for i in range(k)]\n",
        "  itr = 1\n",
        "  # run till max iteration\n",
        "  while itr <= maxIterations:\n",
        "    # calculating cluster centroids as per formulae\n",
        "    for j in range(k):\n",
        "      numer = []\n",
        "      deno = 0\n",
        "      for i in range(n):\n",
        "        numer.append([x*pow(partitionMatrix[i][j],m) for x in a[i]])\n",
        "        deno += pow(partitionMatrix[i][j],m)\n",
        "      numer = np.array(numer)\n",
        "      numer = numer.sum(axis = 0) \n",
        "      c[j] = [x/deno for x in numer]\n",
        "    # updating partition matrix\n",
        "    for i in range(n):\n",
        "      for j in range(k):\n",
        "        sum = 0\n",
        "        for l in range(k):\n",
        "          sum += pow(np.linalg.norm(a[i] - c[j])/np.linalg.norm(a[i] - c[l]),2/(m-1))\n",
        "        partitionMatrix[i][j] = 1/sum\n",
        "    itr += 1 \n",
        "  assignedCluster = []\n",
        "  # assigning final cluster indices according to max membership score in parition matrix\n",
        "  for i in range(n):\n",
        "    assignedCluster.append(np.argmax(partitionMatrix[i]))\n",
        "  return c,partitionMatrix,assignedCluster"
      ],
      "execution_count": null,
      "outputs": []
    },
    {
      "cell_type": "markdown",
      "metadata": {
        "id": "sMuxlWs_8K3w"
      },
      "source": [
        "Plotting Clusterred Data"
      ]
    },
    {
      "cell_type": "code",
      "metadata": {
        "id": "dvMHLSu5zrK-"
      },
      "source": [
        "def plotData(a,c,k,assignedCluster):\n",
        "  #Getting unique labels\n",
        "  df = pd.DataFrame(a)\n",
        "  df['label'] = assignedCluster\n",
        "  centroids = pd.DataFrame(c)\n",
        "  u_labels = np.unique(assignedCluster)\n",
        "  #plotting the final clustered results:\n",
        "  for i in u_labels:\n",
        "    plt.scatter(df[df['label']==i][0] , df[df['label'] == i][1] , label = i)\n",
        "  plt.scatter(centroids[0] , centroids[1], s=100,label = 50)\n",
        "  plt.legend()\n",
        "  plt.show()  "
      ],
      "execution_count": null,
      "outputs": []
    },
    {
      "cell_type": "markdown",
      "metadata": {
        "id": "4GE3zCB51opN"
      },
      "source": [
        "Defining Parameters to use"
      ]
    },
    {
      "cell_type": "code",
      "metadata": {
        "id": "KXdWwEnZz10j"
      },
      "source": [
        "# number of clusters as given in question\n",
        "k = 3\n",
        "# degree of fuzzification : usually 2\n",
        "m = 2\n",
        "a = list(df.values)\n",
        "# in FuzzyCMean we are passing the dataframe , no. of clusters , degree of fuzzification and max iterations\n",
        "c,partitionMatrix,assignedCluster = FuzzyCMean(df,k,m,50)\n",
        "slscorefuzzy = metrics.silhouette_score(a,assignedCluster, metric='euclidean')"
      ],
      "execution_count": null,
      "outputs": []
    },
    {
      "cell_type": "code",
      "metadata": {
        "colab": {
          "base_uri": "https://localhost:8080/"
        },
        "id": "6_kGAp3u4oKF",
        "outputId": "1b695f6e-c317-487f-9604-c757506b858c"
      },
      "source": [
        "print('Sum Squared Error : ',sse(c,a,assignedCluster))\n",
        "print('Silhouette Score of Fuzzy-C Means : ',slscorefuzzy)\n",
        "print('Assigned Cluster Indices : ',assignedCluster)"
      ],
      "execution_count": null,
      "outputs": [
        {
          "output_type": "stream",
          "name": "stdout",
          "text": [
            "Sum Squared Error :  96.81684877446773\n",
            "Silhouette Score of Fuzzy-C Means :  0.5495175126471615\n",
            "Assigned Cluster Indices :  [0, 1, 1, 2, 1, 0, 1, 0, 2, 1, 2, 2, 1, 0, 1, 2, 1, 2, 2, 2, 0, 1, 1, 2, 0, 1, 1, 1, 0, 0, 2, 1, 1, 2, 2, 2, 0, 1, 1, 2, 1, 0, 2, 0, 2, 0, 1, 0, 2, 1, 1, 1, 1, 1, 2, 1, 1, 0, 0, 2, 1, 1, 2, 2, 1, 2, 0, 1, 0, 1, 0, 1, 2, 2, 0, 0, 1, 1, 2, 2, 1, 2, 2, 1, 1, 2, 1, 0, 1, 0, 0, 1, 2, 1, 2, 0, 1, 1, 1, 1, 2, 0, 0, 2, 2, 2, 2, 0, 1, 0, 2, 2, 1, 2, 0, 2, 1, 1, 0, 0, 1, 1, 2, 2, 0, 2, 2, 0, 2, 1, 1, 2, 0, 1, 0, 2, 1, 1, 2, 0, 1, 2, 0, 1, 1, 0, 2, 0, 0, 1]\n"
          ]
        }
      ]
    },
    {
      "cell_type": "code",
      "metadata": {
        "colab": {
          "base_uri": "https://localhost:8080/",
          "height": 268
        },
        "id": "H3j0YAVSvfYR",
        "outputId": "20d06d62-4baa-48b8-a79a-8d70ceb04fd1"
      },
      "source": [
        "plotData(a,c,k,assignedCluster)"
      ],
      "execution_count": null,
      "outputs": [
        {
          "output_type": "display_data",
          "data": {
            "image/png": "[encoded data removed]",
            "text/plain": [
              "<Figure size 432x288 with 1 Axes>"
            ]
          },
          "metadata": {
            "needs_background": "light"
          }
        }
      ]
    },
    {
      "cell_type": "markdown",
      "metadata": {
        "id": "rycQtuPQ1ALQ"
      },
      "source": [
        "2.Compare the result of the above-mentioned technique with the\n",
        "K-means (you can use library function for K-means) algorithm\n",
        "using silhouette coefficient."
      ]
    },
    {
      "cell_type": "code",
      "metadata": {
        "id": "Xp6W0Rqsv4Qj"
      },
      "source": [
        "# Inbuilt Implementation of K means\n",
        "kmeans = KMeans(n_clusters=3, random_state=0).fit(df)\n",
        "labels = kmeans.labels_\n",
        "centroids = kmeans.cluster_centers_\n",
        "silhouettescore = metrics.silhouette_score(df, labels, metric='euclidean')"
      ],
      "execution_count": null,
      "outputs": []
    },
    {
      "cell_type": "code",
      "metadata": {
        "colab": {
          "base_uri": "https://localhost:8080/"
        },
        "id": "E6QHogw6zAjO",
        "outputId": "de9ccf57-07d5-4e31-9982-9df023a62377"
      },
      "source": [
        "print('Silhouetter Score for K-Means:',silhouettescore)"
      ],
      "execution_count": null,
      "outputs": [
        {
          "output_type": "stream",
          "name": "stdout",
          "text": [
            "Silhouetter Score for K-Means: 0.5528190123564091\n"
          ]
        }
      ]
    },
    {
      "cell_type": "markdown",
      "metadata": {
        "id": "3dsS-MoA0HPb"
      },
      "source": [
        "Final Partition Matrix"
      ]
    },
    {
      "cell_type": "code",
      "metadata": {
        "colab": {
          "base_uri": "https://localhost:8080/"
        },
        "id": "oOW3CZGq0KqC",
        "outputId": "801ffbfa-dcb4-4818-ecdd-0c99e5440d5e"
      },
      "source": [
        "print(partitionMatrix)"
      ],
      "execution_count": null,
      "outputs": [
        {
          "output_type": "stream",
          "name": "stdout",
          "text": [
            "[[0.911946789696622, 0.0751492455082724, 0.012903964795105733], [0.2712531834593056, 0.7077703647886507, 0.02097645175204368], [0.14506104866311353, 0.6365160567043673, 0.21842289463251924], [0.030307932479874775, 0.06555668437313274, 0.9041353831469925], [0.25938259718344847, 0.7069790569946066, 0.03363834582194495], [0.8314467109825329, 0.1564396180764654, 0.012113670941001856], [0.07272690428768201, 0.9156565702600783, 0.011616525452239599], [0.8908235462897128, 0.09473356340074604, 0.014442890309541153], [0.009177171786987674, 0.020182677698150433, 0.9706401505148619], [0.21127381859392155, 0.7547865689780575, 0.03393961242802095], [0.009838125714301881, 0.023242582757729974, 0.9669192915279681], [0.0174955672401115, 0.03557907900047579, 0.9469253537594127], [0.0882419794445145, 0.8996450738049343, 0.012112946750551114], [0.868674342206923, 0.11733391396437952, 0.013991743828697513], [0.2283825033369917, 0.7498956362048234, 0.021721860458184836], [0.006414578529279606, 0.013759499911516397, 0.979825921559204], [0.07077074628849629, 0.8776696385561662, 0.05155961515533751], [0.0074979471306946596, 0.01664950939052822, 0.975852543478777], [0.001995974367520625, 0.004328060437939124, 0.9936759651945402], [0.00014120482365389338, 0.0003115324842669094, 0.9995472626920792], [0.9271271417138068, 0.06317312666325436, 0.009699731622938865], [0.3300135867055915, 0.6468971533156347, 0.023089259978773726], [0.355114573893462, 0.61558958752196, 0.02929583858457791], [0.0016883314901868902, 0.0035839126336466177, 0.9947277558761665], [0.8498632569497858, 0.13607359718496992, 0.014063145865244231], [0.020463042820331366, 0.9737971719418733, 0.0057397852377954525], [0.1327390376144749, 0.5983225585612114, 0.26893840382431367], [0.05267608800401575, 0.9331706135709094, 0.014153298425074887], [0.5999779438063452, 0.3687552048183114, 0.03126685137534347], [0.5760872987432998, 0.39272947786706275, 0.0311832233896374], [0.019232456156337337, 0.04108325525915951, 0.9396842885845031], [0.31970937394116095, 0.6563208456901714, 0.023969780368667662], [0.12451091847366474, 0.5201295116639599, 0.3553595698623754], [0.007364903716652606, 0.015841986064765664, 0.9767931102185818], [0.001072034262366431, 0.0023043797141403324, 0.9966235860234932], [0.005341561401665156, 0.011935475287377189, 0.9827229633109578], [0.9610294118574789, 0.03372293493981407, 0.005247653202707089], [0.24774328123153883, 0.721025228163564, 0.031231490604897213], [0.028441035477986376, 0.9588781992510776, 0.01268076527093589], [0.0024310579140918, 0.005431783738138364, 0.9921371583477698], [0.20681614705014523, 0.764022059904331, 0.029161793045523757], [0.5011647758848478, 0.45426001294805335, 0.044575211167098915], [0.004793858003138435, 0.01037320230279211, 0.9848329396940695], [0.8727910324571453, 0.10742707583998444, 0.019781891702870404], [0.007973411870684028, 0.01845847838290626, 0.9735681097464098], [0.9572481917970587, 0.03767510689673489, 0.005076701306206256], [0.04837037711616734, 0.9257354684053445, 0.025894154478488147], [0.8540772195203796, 0.12869699133752846, 0.01722578914209197], [0.006473397910235207, 0.014798733355334963, 0.9787278687344297], [0.050305670877771, 0.9187111083294806, 0.030983220792748324], [0.041788275950927246, 0.9356931377407538, 0.022518586308319072], [0.046232422931754946, 0.9342730152988599, 0.01949456176938515], [0.17070112636862725, 0.7971572849824261, 0.03214158864894658], [0.3913000193723948, 0.5817810987664579, 0.026918881861147416], [0.007939390096006754, 0.017696024455394734, 0.9743645854485985], [0.4111277788624257, 0.5554190045083298, 0.03345321662924446], [0.04472606071918363, 0.9438676033281939, 0.011406335952622469], [0.7611012303334778, 0.22314352441098154, 0.015755245255540614], [0.845523803266254, 0.14195104348147092, 0.012525153252275], [0.008126719415271459, 0.017652320447113356, 0.9742209601376152], [0.25074001657208406, 0.7216446562467452, 0.0276153271811708], [0.04698553553770461, 0.9289224770076396, 0.02409198745465575], [0.0020867311694607905, 0.004565021838610414, 0.9933482469919287], [0.03763165556799534, 0.07260938460771092, 0.8897589598242938], [0.355114573893462, 0.61558958752196, 0.02929583858457791], [0.015208353237955378, 0.032176210649224705, 0.95261543611282], [0.9753464366323444, 0.021740460711067586, 0.002913102656588129], [0.27058683732882943, 0.7054433287386663, 0.02396983393250416], [0.9888133983562257, 0.010019940218509759, 0.0011666614252645545], [0.10111948673003625, 0.843250531550536, 0.05562998171942766], [0.8599088665337895, 0.12073403754972946, 0.019357095916480938], [0.44272937996281286, 0.5236650510392519, 0.03360556899793516], [0.004805187384782462, 0.010201183994643476, 0.9849936286205739], [0.007259525091656604, 0.015520070040712545, 0.9772204048676308], [0.9132129425989319, 0.07962550203954218, 0.007161555361525969], [0.8823507058594385, 0.10638706346924759, 0.011262230671313992], [0.43640762971879343, 0.5402037292203129, 0.02338864106089358], [0.46667882696795393, 0.507525242021025, 0.025795931011021067], [0.006504517775197105, 0.014003815029067914, 0.9794916671957349], [0.05430591464543994, 0.10434909424261798, 0.841344991111942], [0.08988839415011851, 0.8323032977986686, 0.07780830805121287], [0.00157324662604057, 0.0035812524370831887, 0.9948455009368763], [0.0017679351703922543, 0.003761709400935316, 0.9944703554286723], [0.21715432327783152, 0.7587387269774492, 0.024106949744719434], [0.02618800708253469, 0.9688762011027358, 0.0049357918147295956], [0.03234817216533706, 0.06348136255243655, 0.9041704652822264], [0.08332726869511371, 0.9027402352699657, 0.01393249603492056], [0.955791582575801, 0.03813550527161592, 0.0060729121525830015], [0.26839967596077474, 0.6898818051461362, 0.04171851889308893], [0.8629882055929764, 0.11511852521933283, 0.02189326918769089], [0.7575879302853051, 0.19323625249500792, 0.04917581721968695], [0.1323071921246441, 0.5825095936231398, 0.2851832142522162], [0.01660049390027224, 0.038128057946209416, 0.9452714481535183], [0.028739326251551445, 0.9620744331080142, 0.0091862406404342], [0.013832840383701032, 0.02750918931935919, 0.9586579702969397], [0.8610149827609386, 0.1145729770101684, 0.024412040228892946], [0.026739604623685298, 0.9605690261889156, 0.012691369187399031], [0.09469926322107798, 0.8305391114510154, 0.0747616253279065], [0.04922376258788364, 0.9311463955471325, 0.0196298418649839], [0.06237776554237775, 0.8994425487168388, 0.03817968574078332], [0.02523598375776127, 0.051794128028742274, 0.9229698882134965], [0.8118938120690408, 0.1526524830814575, 0.03545370484950169], [0.7893823001776383, 0.1890364397936327, 0.02158126002872893], [0.02190241802487047, 0.047717795457818485, 0.930379786517311], [0.001058788782550458, 0.0022884844349514836, 0.9966527267824982], [0.0009193050117433436, 0.002008191274972874, 0.9970725037132838], [0.004593961072816379, 0.01034066054530684, 0.9850653783818768], [0.783227131392285, 0.17480836640140685, 0.04196450220630811], [0.02301384204592673, 0.9674086931007824, 0.009577464853291067], [0.7636191257557898, 0.18579940009143706, 0.05058147415277318], [0.0029265623700929, 0.006182493500975768, 0.9908909441289314], [0.006329370697652765, 0.01438247642890355, 0.9792881528734437], [0.13741903819789297, 0.8354375799719612, 0.027143381830145825], [0.011564039394140814, 0.024251350333604375, 0.9641846102722548], [0.8395903521610268, 0.13175360492469632, 0.02865604291427681], [0.000533239301188849, 0.0011777153237010217, 0.9982890453751101], [0.10118351069505623, 0.8759113625953926, 0.02290512670955117], [0.16703530325930033, 0.7599904661903764, 0.07297423055032337], [0.9576076581481142, 0.037638321224469196, 0.004754020627416503], [0.5006316737972949, 0.460999435977556, 0.03836889022514904], [0.08244982306069003, 0.8911691872029304, 0.026380989736379555], [0.3814478969458761, 0.5957525041713192, 0.022799598882804816], [0.006111442948685997, 0.014461098209008195, 0.9794274588423059], [0.006653639253621562, 0.014157303616749441, 0.9791890571296289], [0.7601277386236838, 0.1889756025771634, 0.05089665879915284], [0.020619654396617122, 0.04480623336003705, 0.9345741122433459], [0.006282525839552972, 0.014201168010719568, 0.9795163061497275], [0.773343092622274, 0.2098926831371814, 0.016764224240544624], [0.008631425566838501, 0.019222103905115584, 0.972146470528046], [0.2570874894894702, 0.7107272064668013, 0.032185304043728415], [0.10074267742595627, 0.7954740858032352, 0.10378323677080864], [0.020334054067369964, 0.04114512832684079, 0.9385208176057893], [0.9086355156467805, 0.0830066470528807, 0.008357837300338738], [0.29720865509232075, 0.6729963243633208, 0.029795020544358508], [0.6724777408244225, 0.3063353009082488, 0.021186958267328727], [0.010107522752594836, 0.02246503137608137, 0.9674274458713239], [0.11547255857010502, 0.8576640892323178, 0.026863352197577007], [0.3056670639434526, 0.6599702330778845, 0.03436270297866289], [0.046994294237258906, 0.1022700657010812, 0.85073564006166], [0.8801373936969548, 0.11007902603747441, 0.009783580265570791], [0.10465847490809098, 0.7670174395621635, 0.1283240855297455], [0.00954025809126703, 0.021855264083881998, 0.9686044778248509], [0.9704831780823477, 0.025690547997388364, 0.0038262739202638636], [0.08044239027937414, 0.8702067501404304, 0.049350859580195375], [0.037677160585173376, 0.9455391001693687, 0.01678373924545771], [0.9061983724937503, 0.08484539415764081, 0.008956233348608863], [0.010200940405421277, 0.021756745405083107, 0.9680423141894955], [0.967548800914221, 0.028962056082484085, 0.0034891430032949595], [0.8551179503222391, 0.129481013281988, 0.015401036395772916], [0.09218459656632341, 0.8161672073833173, 0.09164819605035915]]\n"
          ]
        }
      ]
    },
    {
      "cell_type": "markdown",
      "metadata": {
        "id": "35qTxTOs_mgB"
      },
      "source": [
        "Comparing Silhouetter Score of Fuzzy C Means and K-Means Algorithm"
      ]
    },
    {
      "cell_type": "code",
      "metadata": {
        "colab": {
          "base_uri": "https://localhost:8080/"
        },
        "id": "Bf769jC3_vsn",
        "outputId": "0e332017-1137-4874-8c28-6baad028f738"
      },
      "source": [
        "print(\"Final Score For K-Means\",silhouettescore)\n",
        "print(\"Final Score For Fuzzy C Means\",slscorefuzzy)"
      ],
      "execution_count": null,
      "outputs": [
        {
          "output_type": "stream",
          "name": "stdout",
          "text": [
            "Final Score For K-Means 0.5528190123564091\n",
            "Final Score For Fuzzy C Means 0.5495175126471615\n"
          ]
        }
      ]
    }
  ]
}