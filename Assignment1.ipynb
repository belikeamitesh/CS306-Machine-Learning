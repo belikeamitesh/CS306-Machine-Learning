{
  "nbformat": 4,
  "nbformat_minor": 0,
  "metadata": {
    "colab": {
      "name": "Assignment1.ipynb",
      "provenance": [],
      "authorship_tag": "ABX9TyO6/1Mynevs072Qmx3Jq13y",
      "include_colab_link": true
    },
    "kernelspec": {
      "name": "python3",
      "display_name": "Python 3"
    },
    "language_info": {
      "name": "python"
    }
  },
  "cells": [
    {
      "cell_type": "markdown",
      "metadata": {
        "id": "view-in-github",
        "colab_type": "text"
      },
      "source": [
        "<a href=\"https://colab.research.google.com/github/belikeamitesh/CS306-Machine-Learning/blob/main/Assignment1.ipynb\" target=\"_parent\"><img src=\"https://colab.research.google.com/assets/colab-badge.svg\" alt=\"Open In Colab\"/></a>"
      ]
    },
    {
      "cell_type": "markdown",
      "metadata": {
        "id": "xX17xWVprhtd"
      },
      "source": [
        "# ML Lab (CS360)\n",
        "# Assignment 1"
      ]
    },
    {
      "cell_type": "markdown",
      "metadata": {
        "id": "egaL3E7kr4xd"
      },
      "source": [
        "## PART 1: NumPy Basic"
      ]
    },
    {
      "cell_type": "markdown",
      "metadata": {
        "id": "qLsrhGYhsPAn"
      },
      "source": [
        "1. Write a NumPy program to create an array of 10 zeros,10 ones,\n",
        "10 fives"
      ]
    },
    {
      "cell_type": "code",
      "metadata": {
        "colab": {
          "base_uri": "https://localhost:8080/"
        },
        "id": "RTDbe3Dqrace",
        "outputId": "5f1606da-f4a1-4ec1-8c63-709a259e3a26"
      },
      "source": [
        "import numpy as np\n",
        "\n",
        "zeros = np.zeros(10,dtype=int)\n",
        "# print(zeros)\n",
        "\n",
        "ones = np.ones(10,dtype=int)\n",
        "# print(ones)\n",
        "\n",
        "fives = np.ones(10,dtype=int)*5\n",
        "# print(fives)\n",
        "\n",
        "ans = np.concatenate((zeros,ones,fives))\n",
        "print(ans)"
      ],
      "execution_count": null,
      "outputs": [
        {
          "output_type": "stream",
          "text": [
            "[0 0 0 0 0 0 0 0 0 0 1 1 1 1 1 1 1 1 1 1 5 5 5 5 5 5 5 5 5 5]\n"
          ],
          "name": "stdout"
        }
      ]
    },
    {
      "cell_type": "markdown",
      "metadata": {
        "id": "c4kuJMvEs3zf"
      },
      "source": [
        "2. Write a NumPy program to create an array of all the even\n",
        "integers from 10 to 50"
      ]
    },
    {
      "cell_type": "code",
      "metadata": {
        "colab": {
          "base_uri": "https://localhost:8080/"
        },
        "id": "rRtowuV2sy4x",
        "outputId": "fb4c2681-e6f0-4bbf-c15a-d05919c80a08"
      },
      "source": [
        "evenarray = np.arange(21, 51, 21)\n",
        "print(evenarray)"
      ],
      "execution_count": null,
      "outputs": [
        {
          "output_type": "stream",
          "text": [
            "[21 42]\n"
          ],
          "name": "stdout"
        }
      ]
    },
    {
      "cell_type": "markdown",
      "metadata": {
        "id": "CzAibbt_uI1X"
      },
      "source": [
        "3. Write a NumPy program to generate a random number between 0 and\n",
        "1"
      ]
    },
    {
      "cell_type": "code",
      "metadata": {
        "colab": {
          "base_uri": "https://localhost:8080/"
        },
        "id": "_3iPRnsSuOQ7",
        "outputId": "243f37c6-7054-4987-d8a1-5abd29c17410"
      },
      "source": [
        "# random_value_matrix=np.random.rand((3,3))\n",
        "# print(random_value_matrix)\n",
        "random_num=np.random.rand()\n",
        "print(random_num)"
      ],
      "execution_count": null,
      "outputs": [
        {
          "output_type": "stream",
          "text": [
            "0.46381354060838254\n"
          ],
          "name": "stdout"
        }
      ]
    },
    {
      "cell_type": "markdown",
      "metadata": {
        "id": "dKIpMay5w9Fo"
      },
      "source": [
        "4. Write a NumPy program to save the matrix (generated in question\n",
        "3) to a text file and load it"
      ]
    },
    {
      "cell_type": "code",
      "metadata": {
        "colab": {
          "base_uri": "https://localhost:8080/"
        },
        "id": "GktElLvMxB0A",
        "outputId": "96d606a7-e353-49a0-df73-da71228872d0"
      },
      "source": [
        "\n",
        "random_value_matrix = np.random.rand(3, 3)\n",
        "\n",
        "print(random_value_matrix)\n",
        "print(\"\\n\")\n",
        "\n",
        "#saving to txt file\n",
        "np.savetxt(\"matrix.csv\", random_value_matrix)\n",
        "\n",
        "print(\"Saved Matrix is Loaded : \")\n",
        "#Loading from txt file\n",
        "random_value_matrix = np.loadtxt(\"matrix.csv\")\n",
        "print(random_value_matrix)"
      ],
      "execution_count": null,
      "outputs": [
        {
          "output_type": "stream",
          "text": [
            "[[0.51945911 0.21189405 0.52169238]\n",
            " [0.03588986 0.66339998 0.58454832]\n",
            " [0.41053641 0.65817781 0.16360751]]\n",
            "\n",
            "\n",
            "Saved Matrix is Loaded : \n",
            "[[0.51945911 0.21189405 0.52169238]\n",
            " [0.03588986 0.66339998 0.58454832]\n",
            " [0.41053641 0.65817781 0.16360751]]\n"
          ],
          "name": "stdout"
        }
      ]
    },
    {
      "cell_type": "markdown",
      "metadata": {
        "id": "-tcEkHRpxcSG"
      },
      "source": [
        "# Part 2 : Pandas Excel"
      ]
    },
    {
      "cell_type": "markdown",
      "metadata": {
        "id": "iHywNhZXxk4E"
      },
      "source": [
        "1. Write a python program to read an image and save the image as a\n",
        "matrix to a .csv file using pandas"
      ]
    },
    {
      "cell_type": "code",
      "metadata": {
        "id": "UjcA3sEaxj33",
        "colab": {
          "base_uri": "https://localhost:8080/"
        },
        "outputId": "ff21f5cd-a1aa-48e4-a679-f2188275a6b0"
      },
      "source": [
        "import pandas as pd\n",
        "import matplotlib.image as img\n",
        "\n",
        "#Getting image from link\n",
        "# !wget -P ./ https://blognumbers.files.wordpress.com/2010/09/6.jpg\n",
        "\n",
        "\n",
        "# reading imagea as an array\n",
        "image = img.imread('6.jpg')\n",
        "print(\"Original Image Shape : \",image.shape)\n",
        "\n",
        "#if image is colored(RGB)\n",
        "if(image.shape[2]==3):\n",
        "\n",
        "  img1 = image.reshape(image.shape[0],-1)\n",
        "  print(\"Original Image 2D Shape : \",img1.shape)\n",
        "\n",
        "# grayscale image\n",
        "else:\n",
        "  # remain as it is\n",
        "  img1=image\n",
        "\n",
        "#converting to dataframe\n",
        "df = pd.DataFrame(data = img1)\n",
        "\n",
        "#exporting dataframe to CSV file\n",
        "df.to_csv(\"img.csv\",header=None,index=None)\n",
        "\n",
        "loaded_df = pd.read_csv('img.csv',header=None) \n",
        "\n",
        "# print(loaded_df)\n",
        "\n",
        "# getting matrices values\n",
        "values_loadeddf= loaded_df.values\n",
        "\n",
        "#reshaping to 3D matrix\n",
        "ans = values_loadeddf.reshape(values_loadeddf.shape[0],values_loadeddf.shape[1] // image.shape[2],image.shape[2])\n",
        "print(\"Shape of Loaded Image : \",ans.shape)\n",
        "\n",
        "# print(df)"
      ],
      "execution_count": null,
      "outputs": [
        {
          "output_type": "stream",
          "text": [
            "Original Image Shape :  (1024, 791, 3)\n",
            "Original Image 2D Shape :  (1024, 2373)\n",
            "Shape of Loaded Image :  (1024, 791, 3)\n"
          ],
          "name": "stdout"
        }
      ]
    },
    {
      "cell_type": "markdown",
      "metadata": {
        "id": "vtkviroAyFqV"
      },
      "source": [
        "2. Write a program to import excel data from the .csv file\n",
        "(generated in question 1) by excluding the last row and last\n",
        "column"
      ]
    },
    {
      "cell_type": "code",
      "metadata": {
        "id": "OR5RvewgyHgr",
        "colab": {
          "base_uri": "https://localhost:8080/"
        },
        "outputId": "b13b14aa-db2e-4d14-edf9-30ed1ed45200"
      },
      "source": [
        "# Importing excel data(data frame) from .csv file (generated in Q1)\n",
        "read_df = pd.read_csv('img.csv',header=None)\n",
        "\n",
        "df=pd.DataFrame(data=read_df)\n",
        "\n",
        "# Excluding last row and last column\n",
        "new_df= df.iloc[:-1,:-1]\n",
        "# print(new_df)\n",
        "print(\"Loaded Image Shape after excluding last row and column : \",new_df.shape)"
      ],
      "execution_count": null,
      "outputs": [
        {
          "output_type": "stream",
          "text": [
            "      0     1     2     3     4     5     ...  2366  2367  2368  2369  2370  2371\n",
            "0      255   255   255   255   255   255  ...   255   255   255   255   255   255\n",
            "1      255   255   255   255   255   255  ...   255   255   255   255   255   255\n",
            "2      255   255   255   255   255   255  ...   255   255   255   255   255   255\n",
            "3      255   255   255   255   255   255  ...   255   255   255   255   255   255\n",
            "4      255   255   255   255   255   255  ...   255   255   255   255   255   255\n",
            "...    ...   ...   ...   ...   ...   ...  ...   ...   ...   ...   ...   ...   ...\n",
            "1018   255   255   255   255   255   255  ...   255   255   255   255   255   255\n",
            "1019   255   255   255   255   255   255  ...   255   255   255   255   255   255\n",
            "1020   255   255   255   255   255   255  ...   255   255   255   255   255   255\n",
            "1021   255   255   255   255   255   255  ...   255   255   255   255   255   255\n",
            "1022   255   255   255   255   255   255  ...   255   255   255   255   255   255\n",
            "\n",
            "[1023 rows x 2372 columns]\n",
            "Loaded Image Shape after excluding last row and column :  (1023, 2372)\n"
          ],
          "name": "stdout"
        }
      ]
    },
    {
      "cell_type": "markdown",
      "metadata": {
        "id": "okJ4YJ9MyIGO"
      },
      "source": [
        "3. Write a Pandas program to create the today's date"
      ]
    },
    {
      "cell_type": "code",
      "metadata": {
        "colab": {
          "base_uri": "https://localhost:8080/"
        },
        "id": "uJrOI6DeyNm5",
        "outputId": "8144fd1c-99eb-4525-a963-bc61710b05fe"
      },
      "source": [
        "todaydate= pd.to_datetime(\"today\")\n",
        "print(\"Today's date: \" ,todaydate.date())"
      ],
      "execution_count": null,
      "outputs": [
        {
          "output_type": "stream",
          "text": [
            "Today's date: 2021-08-09\n"
          ],
          "name": "stdout"
        }
      ]
    },
    {
      "cell_type": "markdown",
      "metadata": {
        "id": "RvHc8Wrh0332"
      },
      "source": [
        "# Part 3"
      ]
    },
    {
      "cell_type": "markdown",
      "metadata": {
        "id": "_JW1vZkI064y"
      },
      "source": [
        "1. Create a mini calculator to know the age of a person after\n",
        "putting the range (i.e. date of birth and current date)"
      ]
    },
    {
      "cell_type": "code",
      "metadata": {
        "colab": {
          "base_uri": "https://localhost:8080/"
        },
        "id": "TPEB8Uh71Ai9",
        "outputId": "e34a7b67-9834-4856-9831-cd543d1f460c"
      },
      "source": [
        "import datetime\n",
        "\n",
        "def age_calculator(dob):\n",
        "  # today = pd.to_datetime(\"today\")\n",
        "  today=datetime.datetime.now()\n",
        "  return today.year - birthdate.year - ((today.month, today.day) < (birthdate.month, birthdate.day))\n",
        "\n",
        "birthdate_year = int(input(\"Enter your birth year: \"))\n",
        "birthdate_month = int(input(\"Enter your birth month: \"))\n",
        "birthdate_day = int(input(\"Enter your birthdate day: \"))\n",
        "birthdate = datetime.datetime(birthdate_year, birthdate_month, birthdate_day)\n",
        "\n",
        "print(\"You are \",age_calculator(birthdate),\" years old !\")"
      ],
      "execution_count": null,
      "outputs": [
        {
          "output_type": "stream",
          "text": [
            "Enter your birth year: 2000\n",
            "Enter your birth month: 5\n",
            "Enter your birthdate day: 12\n",
            "You are  21  years old !\n"
          ],
          "name": "stdout"
        }
      ]
    }
  ]
}