{
  "nbformat": 4,
  "nbformat_minor": 0,
  "metadata": {
    "colab": {
      "name": "CS360_Lab7 (1).ipynb",
      "provenance": [],
      "collapsed_sections": [],
      "include_colab_link": true
    },
    "kernelspec": {
      "name": "python3",
      "display_name": "Python 3"
    },
    "language_info": {
      "name": "python"
    }
  },
  "cells": [
    {
      "cell_type": "markdown",
      "metadata": {
        "id": "view-in-github",
        "colab_type": "text"
      },
      "source": [
        "<a href=\"https://colab.research.google.com/github/belikeamitesh/CS306-Machine-Learning/blob/main/Logistic-Regression.ipynb\" target=\"_parent\"><img src=\"https://colab.research.google.com/assets/colab-badge.svg\" alt=\"Open In Colab\"/></a>"
      ]
    },
    {
      "cell_type": "code",
      "metadata": {
        "id": "CF8wk3zVOgf0"
      },
      "source": [
        "import pandas as pd\n",
        "import numpy as np\n",
        "import matplotlib.pyplot as plt\n",
        "import math\n",
        "from sklearn.datasets import load_iris\n",
        "from sklearn.preprocessing import normalize\n",
        "from sklearn.model_selection import train_test_split"
      ],
      "execution_count": null,
      "outputs": []
    },
    {
      "cell_type": "code",
      "metadata": {
        "id": "A_13VBS-Oot0"
      },
      "source": [
        "ds_x, ds_y = load_iris(True)\n",
        "m = ds_y.shape[0]"
      ],
      "execution_count": null,
      "outputs": []
    },
    {
      "cell_type": "code",
      "metadata": {
        "id": "U0qmshkTSJBt"
      },
      "source": [
        "index = []\n",
        "for i in range(m):\n",
        "  if ds_y[i] == 2:\n",
        "    index.append(i)\n",
        "\n",
        "ds_x = np.delete(ds_x, index, axis=0)\n",
        "ds_y = np.delete(ds_y, index)"
      ],
      "execution_count": null,
      "outputs": []
    },
    {
      "cell_type": "code",
      "metadata": {
        "colab": {
          "base_uri": "https://localhost:8080/"
        },
        "id": "ITYCqp3cSiD5",
        "outputId": "e6f6cc9e-135a-488f-8d4b-c80adb66008a"
      },
      "source": [
        " m = ds_y.shape[0]\n",
        " m"
      ],
      "execution_count": null,
      "outputs": [
        {
          "output_type": "execute_result",
          "data": {
            "text/plain": [
              "100"
            ]
          },
          "metadata": {},
          "execution_count": 80
        }
      ]
    },
    {
      "cell_type": "code",
      "metadata": {
        "id": "GcxRSCnKWGZq"
      },
      "source": [
        "ds_x = normalize(ds_x)\n"
      ],
      "execution_count": null,
      "outputs": []
    },
    {
      "cell_type": "code",
      "metadata": {
        "id": "jMrQcyUGaNCB"
      },
      "source": [
        "one_x = np.ones((m,1))\n",
        "ds_x = np.append(one_x, ds_x, axis=1)\n",
        "n = ds_x.shape[1]"
      ],
      "execution_count": null,
      "outputs": []
    },
    {
      "cell_type": "code",
      "metadata": {
        "id": "pdHts144WdNF"
      },
      "source": [
        "x_train, x_test, y_train, y_test = train_test_split(ds_x, ds_y, test_size=0.6, random_state=1)\n",
        "x_train, x_val, y_train, y_val = train_test_split(x_train, y_train, test_size=0.25, random_state=1)"
      ],
      "execution_count": null,
      "outputs": []
    },
    {
      "cell_type": "code",
      "metadata": {
        "colab": {
          "base_uri": "https://localhost:8080/"
        },
        "id": "WlkRjP18YZKp",
        "outputId": "6ce3661e-8a2c-428e-d90e-845b7431859c"
      },
      "source": [
        "print(x_train.shape)\n",
        "print(x_val.shape)\n",
        "print(x_test.shape)"
      ],
      "execution_count": null,
      "outputs": [
        {
          "output_type": "stream",
          "name": "stdout",
          "text": [
            "(30, 5)\n",
            "(10, 5)\n",
            "(60, 5)\n"
          ]
        }
      ]
    },
    {
      "cell_type": "code",
      "metadata": {
        "id": "-U5CPDDKZwfc"
      },
      "source": [
        "alpha_list = [10, 20, 1, 0.1, 0.01]\n",
        "rho_list = [0.0001, 0.0001, 0.0001, 0.00001, 0.000001]\n",
        "epoch_list = [1000, 0.0001, 1000, 2000, 3000]"
      ],
      "execution_count": null,
      "outputs": []
    },
    {
      "cell_type": "code",
      "metadata": {
        "id": "DJjejv5nbF0r"
      },
      "source": [
        "def sigmoid(x):\n",
        "  return 1 / (1 + math.exp(-x))"
      ],
      "execution_count": null,
      "outputs": []
    },
    {
      "cell_type": "code",
      "metadata": {
        "id": "CTHFqI3sZsMj"
      },
      "source": [
        "def hypothesis(w, x): \n",
        "  return sigmoid((w*x).sum())"
      ],
      "execution_count": null,
      "outputs": []
    },
    {
      "cell_type": "code",
      "metadata": {
        "id": "lV-Dn5wqYkTN"
      },
      "source": [
        "def get_mse(h_x, y):\n",
        "  return ((h_x-y)*(h_x-y)).sum()/(y.shape[0]*2)"
      ],
      "execution_count": null,
      "outputs": []
    },
    {
      "cell_type": "code",
      "metadata": {
        "id": "5ZK9oRJqZii7"
      },
      "source": [
        "def logistic_regression(inp, out, hyper_i):\n",
        "  alpha, rho, epoch = alpha_list[hyper_i], rho_list[hyper_i], epoch_list[hyper_i]\n",
        "  m = inp.shape[0]\n",
        "  np.random.seed(42)\n",
        "  w = np.random.rand(n) # initilalization\n",
        "  h_x = [hypothesis(w, inp[i, :]) for i in range(m)]  \n",
        "  # print('initial w:')\n",
        "  # print(w)\n",
        "  mse = get_mse(h_x, out)\n",
        "  mse_list = [mse]\n",
        "  itr = 1\n",
        "  while(True):\n",
        "    new_w = [0 for i in range(n)]\n",
        "    for j in range(n):\n",
        "      # wj = wj - alpha*(summation)/m\n",
        "      summation = 0\n",
        "      for i in range(m):\n",
        "        summation += (h_x[i] - out[i]) * inp[i,j] * (h_x[i]) * (1-h_x[i])\n",
        "      new_w[j] = w[j] - alpha * summation / m\n",
        "    h_x = [hypothesis(new_w, inp[i, :]) for i in range(m)]  \n",
        "    new_mse = get_mse(h_x, out)\n",
        "    # print(abs(new_mse - mse))\n",
        "    if abs(new_mse - mse) <= rho:\n",
        "      break\n",
        "    w = new_w\n",
        "    mse = new_mse\n",
        "    mse_list.append(new_mse)\n",
        "    # if(mse >= 234243242323434):\n",
        "    #   break\n",
        "    if(itr > epoch): \n",
        "      break\n",
        "    itr += 1\n",
        "  # print('ecochs: ', itr)\n",
        "  return mse_list"
      ],
      "execution_count": null,
      "outputs": []
    },
    {
      "cell_type": "markdown",
      "metadata": {
        "id": "nzglm7c0fpbU"
      },
      "source": [
        "Train Set"
      ]
    },
    {
      "cell_type": "code",
      "metadata": {
        "colab": {
          "base_uri": "https://localhost:8080/",
          "height": 282
        },
        "id": "Cj3nnlgnftdj",
        "outputId": "fbd94c78-861c-4493-9d9d-059669e2335b"
      },
      "source": [
        "train_result = logistic_regression(x_train, y_train, 0)\n",
        "epoch = [(i+1) for i in range(len(train_result))]\n",
        "plt.plot(epoch, train_result)\n",
        "plt.show()\n",
        "print('final mse: ', train_result[-1])"
      ],
      "execution_count": null,
      "outputs": [
        {
          "output_type": "display_data",
          "data": {
            "image/png": "[encoded data removed]",
            "text/plain": [
              "<Figure size 432x288 with 1 Axes>"
            ]
          },
          "metadata": {
            "needs_background": "light"
          }
        },
        {
          "output_type": "stream",
          "name": "stdout",
          "text": [
            "final mse:  0.11808349422050518\n"
          ]
        }
      ]
    },
    {
      "cell_type": "markdown",
      "metadata": {
        "id": "9O1v4AclfYGc"
      },
      "source": [
        "Validation Set \n"
      ]
    },
    {
      "cell_type": "code",
      "metadata": {
        "colab": {
          "base_uri": "https://localhost:8080/",
          "height": 1000
        },
        "id": "Zzzy5f-zcQUK",
        "outputId": "7e51a249-f989-4b5a-b229-9705f11adcc5"
      },
      "source": [
        "for j in range(5):\n",
        "  val_result = logistic_regression(x_val, y_val, j)\n",
        "  epoch = [(i+1) for i in range(len(val_result))]\n",
        "  plt.plot(epoch, val_result)\n",
        "  plt.show()\n",
        "  print('final mse: ', val_result[-1])"
      ],
      "execution_count": null,
      "outputs": [
        {
          "output_type": "stream",
          "name": "stdout",
          "text": [
            "0\n"
          ]
        },
        {
          "output_type": "display_data",
          "data": {
            "image/png": "[encoded data removed]",
            "text/plain": [
              "<Figure size 432x288 with 1 Axes>"
            ]
          },
          "metadata": {
            "needs_background": "light"
          }
        },
        {
          "output_type": "stream",
          "name": "stdout",
          "text": [
            "final mse:  0.009328519589058368\n",
            "1\n"
          ]
        },
        {
          "output_type": "display_data",
          "data": {
            "image/png": "[encoded data removed]",
            "text/plain": [
              "<Figure size 432x288 with 1 Axes>"
            ]
          },
          "metadata": {
            "needs_background": "light"
          }
        },
        {
          "output_type": "stream",
          "name": "stdout",
          "text": [
            "final mse:  0.07730066821091812\n",
            "2\n"
          ]
        },
        {
          "output_type": "display_data",
          "data": {
            "image/png": "[encoded data removed]",
            "text/plain": [
              "<Figure size 432x288 with 1 Axes>"
            ]
          },
          "metadata": {
            "needs_background": "light"
          }
        },
        {
          "output_type": "stream",
          "name": "stdout",
          "text": [
            "final mse:  0.03800697395502239\n",
            "3\n"
          ]
        },
        {
          "output_type": "display_data",
          "data": {
            "image/png": "[encoded data removed]",
            "text/plain": [
              "<Figure size 432x288 with 1 Axes>"
            ]
          },
          "metadata": {
            "needs_background": "light"
          }
        },
        {
          "output_type": "stream",
          "name": "stdout",
          "text": [
            "final mse:  0.04796668679012951\n",
            "4\n"
          ]
        },
        {
          "output_type": "display_data",
          "data": {
            "image/png": "[encoded data removed]",
            "text/plain": [
              "<Figure size 432x288 with 1 Axes>"
            ]
          },
          "metadata": {
            "needs_background": "light"
          }
        },
        {
          "output_type": "stream",
          "name": "stdout",
          "text": [
            "final mse:  0.073458301691081\n"
          ]
        }
      ]
    },
    {
      "cell_type": "markdown",
      "metadata": {
        "id": "jSbJ4IGejolt"
      },
      "source": [
        "**Overfitting Check**"
      ]
    },
    {
      "cell_type": "code",
      "metadata": {
        "colab": {
          "base_uri": "https://localhost:8080/",
          "height": 269
        },
        "id": "q_-0yU1WckXW",
        "outputId": "85f12be0-3c9a-4d4c-bb04-a8c98a63b19a"
      },
      "source": [
        "val_result = logistic_regression(x_val, y_val, 0)\n",
        "train_result = logistic_regression(x_train, y_train, 0)\n",
        "size = min(len(val_result), len(train_result))\n",
        "epoch = [(i+1) for i in range(size)]\n",
        "plt.plot(epoch, val_result[:size], label = 'validation', color='red')\n",
        "plt.plot(epoch, train_result[:size], label = 'training', color='blue')\n",
        "plt.show()"
      ],
      "execution_count": null,
      "outputs": [
        {
          "output_type": "display_data",
          "data": {
            "image/png": "[encoded data removed]",
            "text/plain": [
              "<Figure size 432x288 with 1 Axes>"
            ]
          },
          "metadata": {
            "needs_background": "light"
          }
        }
      ]
    },
    {
      "cell_type": "markdown",
      "metadata": {
        "id": "3432FGmBnL6f"
      },
      "source": [
        "Finalized Testing"
      ]
    },
    {
      "cell_type": "code",
      "metadata": {
        "colab": {
          "base_uri": "https://localhost:8080/",
          "height": 286
        },
        "id": "EnAmL8cIme5r",
        "outputId": "4d080981-aca6-446b-a13c-92f6636edc14"
      },
      "source": [
        "test_result = logistic_regression(x_test, y_test, 0)\n",
        "epoch = [(i+1) for i in range(len(test_result))]\n",
        "plt.plot(epoch, test_result, label = 'testing', color='green')\n",
        "plt.show()\n",
        "print('final testing mse: ', test_result[-1])"
      ],
      "execution_count": null,
      "outputs": [
        {
          "output_type": "display_data",
          "data": {
            "image/png": "[encoded data removed]",
            "text/plain": [
              "<Figure size 432x288 with 1 Axes>"
            ]
          },
          "metadata": {
            "needs_background": "light"
          }
        },
        {
          "output_type": "stream",
          "name": "stdout",
          "text": [
            "final testing mse:  0.01041375496122869\n"
          ]
        }
      ]
    },
    {
      "cell_type": "code",
      "metadata": {
        "id": "TWDrBnUFoBvJ"
      },
      "source": [
        ""
      ],
      "execution_count": null,
      "outputs": []
    }
  ]
}