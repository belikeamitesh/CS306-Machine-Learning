{
  "nbformat": 4,
  "nbformat_minor": 0,
  "metadata": {
    "colab": {
      "name": "ML_Assignment-6.ipynb",
      "provenance": [],
      "include_colab_link": true
    },
    "kernelspec": {
      "name": "python3",
      "display_name": "Python 3"
    },
    "language_info": {
      "name": "python"
    }
  },
  "cells": [
    {
      "cell_type": "markdown",
      "metadata": {
        "id": "view-in-github",
        "colab_type": "text"
      },
      "source": [
        "<a href=\"https://colab.research.google.com/github/belikeamitesh/CS306-Machine-Learning/blob/main/Assignment_6.ipynb\" target=\"_parent\"><img src=\"https://colab.research.google.com/assets/colab-badge.svg\" alt=\"Open In Colab\"/></a>"
      ]
    },
    {
      "cell_type": "code",
      "metadata": {
        "id": "o6rZQ7u0SoUY"
      },
      "source": [
        "from sklearn import datasets\n",
        "import numpy as np\n",
        "import pandas as pd\n",
        "iris = datasets.load_iris()"
      ],
      "execution_count": null,
      "outputs": []
    },
    {
      "cell_type": "code",
      "metadata": {
        "colab": {
          "base_uri": "https://localhost:8080/"
        },
        "id": "xMZ8TBUrTCei",
        "outputId": "1285336d-5210-4cc9-ea46-81c039cdba0e"
      },
      "source": [
        "iris.feature_names"
      ],
      "execution_count": null,
      "outputs": [
        {
          "output_type": "execute_result",
          "data": {
            "text/plain": [
              "['sepal length (cm)',\n",
              " 'sepal width (cm)',\n",
              " 'petal length (cm)',\n",
              " 'petal width (cm)']"
            ]
          },
          "metadata": {},
          "execution_count": 163
        }
      ]
    },
    {
      "cell_type": "code",
      "metadata": {
        "colab": {
          "base_uri": "https://localhost:8080/"
        },
        "id": "PhqZSUMnTYyV",
        "outputId": "019f1aec-846c-4047-cb7e-eeac6100eca5"
      },
      "source": [
        "iris.target"
      ],
      "execution_count": null,
      "outputs": [
        {
          "output_type": "execute_result",
          "data": {
            "text/plain": [
              "array([0, 0, 0, 0, 0, 0, 0, 0, 0, 0, 0, 0, 0, 0, 0, 0, 0, 0, 0, 0, 0, 0,\n",
              "       0, 0, 0, 0, 0, 0, 0, 0, 0, 0, 0, 0, 0, 0, 0, 0, 0, 0, 0, 0, 0, 0,\n",
              "       0, 0, 0, 0, 0, 0, 1, 1, 1, 1, 1, 1, 1, 1, 1, 1, 1, 1, 1, 1, 1, 1,\n",
              "       1, 1, 1, 1, 1, 1, 1, 1, 1, 1, 1, 1, 1, 1, 1, 1, 1, 1, 1, 1, 1, 1,\n",
              "       1, 1, 1, 1, 1, 1, 1, 1, 1, 1, 1, 1, 2, 2, 2, 2, 2, 2, 2, 2, 2, 2,\n",
              "       2, 2, 2, 2, 2, 2, 2, 2, 2, 2, 2, 2, 2, 2, 2, 2, 2, 2, 2, 2, 2, 2,\n",
              "       2, 2, 2, 2, 2, 2, 2, 2, 2, 2, 2, 2, 2, 2, 2, 2, 2, 2])"
            ]
          },
          "metadata": {},
          "execution_count": 164
        }
      ]
    },
    {
      "cell_type": "code",
      "metadata": {
        "colab": {
          "base_uri": "https://localhost:8080/"
        },
        "id": "Y5JhehXTUSoO",
        "outputId": "b1e0a66b-9733-43bf-c947-050b6f722f2b"
      },
      "source": [
        "iris.target_names"
      ],
      "execution_count": null,
      "outputs": [
        {
          "output_type": "execute_result",
          "data": {
            "text/plain": [
              "array(['setosa', 'versicolor', 'virginica'], dtype='<U10')"
            ]
          },
          "metadata": {},
          "execution_count": 165
        }
      ]
    },
    {
      "cell_type": "code",
      "metadata": {
        "id": "n4F5MK1WUjXk"
      },
      "source": [
        "df = pd.DataFrame(iris.data,columns=[iris.feature_names])\n",
        "df['target'] = iris.target"
      ],
      "execution_count": null,
      "outputs": []
    },
    {
      "cell_type": "code",
      "metadata": {
        "colab": {
          "base_uri": "https://localhost:8080/",
          "height": 417
        },
        "id": "nFk3DmMYUsfM",
        "outputId": "21ff392c-1949-4943-f389-3919907e128e"
      },
      "source": [
        "df"
      ],
      "execution_count": null,
      "outputs": [
        {
          "output_type": "execute_result",
          "data": {
            "text/html": [
              "<div>\n",
              "<style scoped>\n",
              "    .dataframe tbody tr th:only-of-type {\n",
              "        vertical-align: middle;\n",
              "    }\n",
              "\n",
              "    .dataframe tbody tr th {\n",
              "        vertical-align: top;\n",
              "    }\n",
              "\n",
              "    .dataframe thead tr th {\n",
              "        text-align: left;\n",
              "    }\n",
              "</style>\n",
              "<table border=\"1\" class=\"dataframe\">\n",
              "  <thead>\n",
              "    <tr>\n",
              "      <th></th>\n",
              "      <th>sepal length (cm)</th>\n",
              "      <th>sepal width (cm)</th>\n",
              "      <th>petal length (cm)</th>\n",
              "      <th>petal width (cm)</th>\n",
              "      <th>target</th>\n",
              "    </tr>\n",
              "  </thead>\n",
              "  <tbody>\n",
              "    <tr>\n",
              "      <th>0</th>\n",
              "      <td>5.1</td>\n",
              "      <td>3.5</td>\n",
              "      <td>1.4</td>\n",
              "      <td>0.2</td>\n",
              "      <td>0</td>\n",
              "    </tr>\n",
              "    <tr>\n",
              "      <th>1</th>\n",
              "      <td>4.9</td>\n",
              "      <td>3.0</td>\n",
              "      <td>1.4</td>\n",
              "      <td>0.2</td>\n",
              "      <td>0</td>\n",
              "    </tr>\n",
              "    <tr>\n",
              "      <th>2</th>\n",
              "      <td>4.7</td>\n",
              "      <td>3.2</td>\n",
              "      <td>1.3</td>\n",
              "      <td>0.2</td>\n",
              "      <td>0</td>\n",
              "    </tr>\n",
              "    <tr>\n",
              "      <th>3</th>\n",
              "      <td>4.6</td>\n",
              "      <td>3.1</td>\n",
              "      <td>1.5</td>\n",
              "      <td>0.2</td>\n",
              "      <td>0</td>\n",
              "    </tr>\n",
              "    <tr>\n",
              "      <th>4</th>\n",
              "      <td>5.0</td>\n",
              "      <td>3.6</td>\n",
              "      <td>1.4</td>\n",
              "      <td>0.2</td>\n",
              "      <td>0</td>\n",
              "    </tr>\n",
              "    <tr>\n",
              "      <th>...</th>\n",
              "      <td>...</td>\n",
              "      <td>...</td>\n",
              "      <td>...</td>\n",
              "      <td>...</td>\n",
              "      <td>...</td>\n",
              "    </tr>\n",
              "    <tr>\n",
              "      <th>145</th>\n",
              "      <td>6.7</td>\n",
              "      <td>3.0</td>\n",
              "      <td>5.2</td>\n",
              "      <td>2.3</td>\n",
              "      <td>2</td>\n",
              "    </tr>\n",
              "    <tr>\n",
              "      <th>146</th>\n",
              "      <td>6.3</td>\n",
              "      <td>2.5</td>\n",
              "      <td>5.0</td>\n",
              "      <td>1.9</td>\n",
              "      <td>2</td>\n",
              "    </tr>\n",
              "    <tr>\n",
              "      <th>147</th>\n",
              "      <td>6.5</td>\n",
              "      <td>3.0</td>\n",
              "      <td>5.2</td>\n",
              "      <td>2.0</td>\n",
              "      <td>2</td>\n",
              "    </tr>\n",
              "    <tr>\n",
              "      <th>148</th>\n",
              "      <td>6.2</td>\n",
              "      <td>3.4</td>\n",
              "      <td>5.4</td>\n",
              "      <td>2.3</td>\n",
              "      <td>2</td>\n",
              "    </tr>\n",
              "    <tr>\n",
              "      <th>149</th>\n",
              "      <td>5.9</td>\n",
              "      <td>3.0</td>\n",
              "      <td>5.1</td>\n",
              "      <td>1.8</td>\n",
              "      <td>2</td>\n",
              "    </tr>\n",
              "  </tbody>\n",
              "</table>\n",
              "<p>150 rows × 5 columns</p>\n",
              "</div>"
            ],
            "text/plain": [
              "    sepal length (cm) sepal width (cm)  ... petal width (cm) target\n",
              "0                 5.1              3.5  ...              0.2      0\n",
              "1                 4.9              3.0  ...              0.2      0\n",
              "2                 4.7              3.2  ...              0.2      0\n",
              "3                 4.6              3.1  ...              0.2      0\n",
              "4                 5.0              3.6  ...              0.2      0\n",
              "..                ...              ...  ...              ...    ...\n",
              "145               6.7              3.0  ...              2.3      2\n",
              "146               6.3              2.5  ...              1.9      2\n",
              "147               6.5              3.0  ...              2.0      2\n",
              "148               6.2              3.4  ...              2.3      2\n",
              "149               5.9              3.0  ...              1.8      2\n",
              "\n",
              "[150 rows x 5 columns]"
            ]
          },
          "metadata": {},
          "execution_count": 167
        }
      ]
    },
    {
      "cell_type": "code",
      "metadata": {
        "id": "HPD8ZDq4ZWKs"
      },
      "source": [
        "df = df.drop(range(100,150,1))"
      ],
      "execution_count": null,
      "outputs": []
    },
    {
      "cell_type": "code",
      "metadata": {
        "colab": {
          "base_uri": "https://localhost:8080/",
          "height": 417
        },
        "id": "_IryMmeUaCyl",
        "outputId": "dc13a797-1112-4b31-b98a-07b116fbd3e2"
      },
      "source": [
        "df"
      ],
      "execution_count": null,
      "outputs": [
        {
          "output_type": "execute_result",
          "data": {
            "text/html": [
              "<div>\n",
              "<style scoped>\n",
              "    .dataframe tbody tr th:only-of-type {\n",
              "        vertical-align: middle;\n",
              "    }\n",
              "\n",
              "    .dataframe tbody tr th {\n",
              "        vertical-align: top;\n",
              "    }\n",
              "\n",
              "    .dataframe thead tr th {\n",
              "        text-align: left;\n",
              "    }\n",
              "</style>\n",
              "<table border=\"1\" class=\"dataframe\">\n",
              "  <thead>\n",
              "    <tr>\n",
              "      <th></th>\n",
              "      <th>sepal length (cm)</th>\n",
              "      <th>sepal width (cm)</th>\n",
              "      <th>petal length (cm)</th>\n",
              "      <th>petal width (cm)</th>\n",
              "      <th>target</th>\n",
              "    </tr>\n",
              "  </thead>\n",
              "  <tbody>\n",
              "    <tr>\n",
              "      <th>0</th>\n",
              "      <td>5.1</td>\n",
              "      <td>3.5</td>\n",
              "      <td>1.4</td>\n",
              "      <td>0.2</td>\n",
              "      <td>0</td>\n",
              "    </tr>\n",
              "    <tr>\n",
              "      <th>1</th>\n",
              "      <td>4.9</td>\n",
              "      <td>3.0</td>\n",
              "      <td>1.4</td>\n",
              "      <td>0.2</td>\n",
              "      <td>0</td>\n",
              "    </tr>\n",
              "    <tr>\n",
              "      <th>2</th>\n",
              "      <td>4.7</td>\n",
              "      <td>3.2</td>\n",
              "      <td>1.3</td>\n",
              "      <td>0.2</td>\n",
              "      <td>0</td>\n",
              "    </tr>\n",
              "    <tr>\n",
              "      <th>3</th>\n",
              "      <td>4.6</td>\n",
              "      <td>3.1</td>\n",
              "      <td>1.5</td>\n",
              "      <td>0.2</td>\n",
              "      <td>0</td>\n",
              "    </tr>\n",
              "    <tr>\n",
              "      <th>4</th>\n",
              "      <td>5.0</td>\n",
              "      <td>3.6</td>\n",
              "      <td>1.4</td>\n",
              "      <td>0.2</td>\n",
              "      <td>0</td>\n",
              "    </tr>\n",
              "    <tr>\n",
              "      <th>...</th>\n",
              "      <td>...</td>\n",
              "      <td>...</td>\n",
              "      <td>...</td>\n",
              "      <td>...</td>\n",
              "      <td>...</td>\n",
              "    </tr>\n",
              "    <tr>\n",
              "      <th>95</th>\n",
              "      <td>5.7</td>\n",
              "      <td>3.0</td>\n",
              "      <td>4.2</td>\n",
              "      <td>1.2</td>\n",
              "      <td>1</td>\n",
              "    </tr>\n",
              "    <tr>\n",
              "      <th>96</th>\n",
              "      <td>5.7</td>\n",
              "      <td>2.9</td>\n",
              "      <td>4.2</td>\n",
              "      <td>1.3</td>\n",
              "      <td>1</td>\n",
              "    </tr>\n",
              "    <tr>\n",
              "      <th>97</th>\n",
              "      <td>6.2</td>\n",
              "      <td>2.9</td>\n",
              "      <td>4.3</td>\n",
              "      <td>1.3</td>\n",
              "      <td>1</td>\n",
              "    </tr>\n",
              "    <tr>\n",
              "      <th>98</th>\n",
              "      <td>5.1</td>\n",
              "      <td>2.5</td>\n",
              "      <td>3.0</td>\n",
              "      <td>1.1</td>\n",
              "      <td>1</td>\n",
              "    </tr>\n",
              "    <tr>\n",
              "      <th>99</th>\n",
              "      <td>5.7</td>\n",
              "      <td>2.8</td>\n",
              "      <td>4.1</td>\n",
              "      <td>1.3</td>\n",
              "      <td>1</td>\n",
              "    </tr>\n",
              "  </tbody>\n",
              "</table>\n",
              "<p>100 rows × 5 columns</p>\n",
              "</div>"
            ],
            "text/plain": [
              "   sepal length (cm) sepal width (cm) petal length (cm) petal width (cm) target\n",
              "0                5.1              3.5               1.4              0.2      0\n",
              "1                4.9              3.0               1.4              0.2      0\n",
              "2                4.7              3.2               1.3              0.2      0\n",
              "3                4.6              3.1               1.5              0.2      0\n",
              "4                5.0              3.6               1.4              0.2      0\n",
              "..               ...              ...               ...              ...    ...\n",
              "95               5.7              3.0               4.2              1.2      1\n",
              "96               5.7              2.9               4.2              1.3      1\n",
              "97               6.2              2.9               4.3              1.3      1\n",
              "98               5.1              2.5               3.0              1.1      1\n",
              "99               5.7              2.8               4.1              1.3      1\n",
              "\n",
              "[100 rows x 5 columns]"
            ]
          },
          "metadata": {},
          "execution_count": 169
        }
      ]
    },
    {
      "cell_type": "code",
      "metadata": {
        "id": "4A5rkNTOeYkw"
      },
      "source": [
        "from sklearn.preprocessing import MinMaxScaler\n",
        "scaling = MinMaxScaler()"
      ],
      "execution_count": null,
      "outputs": []
    },
    {
      "cell_type": "code",
      "metadata": {
        "id": "HcJa8w0PetL-"
      },
      "source": [
        "dat = scaling.fit_transform(df[df.columns])\n",
        "df = pd.DataFrame(dat)"
      ],
      "execution_count": null,
      "outputs": []
    },
    {
      "cell_type": "code",
      "metadata": {
        "id": "4MVGG2H4aLQ0"
      },
      "source": [
        "train = df.sample(frac=0.3)\n",
        "temp = df.drop(train.index)\n",
        "validation = temp.sample(frac=0.4/0.7)\n",
        "test = temp.drop(validation.index)"
      ],
      "execution_count": null,
      "outputs": []
    },
    {
      "cell_type": "code",
      "metadata": {
        "colab": {
          "base_uri": "https://localhost:8080/",
          "height": 417
        },
        "id": "0f4KWg4Zb5z-",
        "outputId": "73be5c80-4de4-4878-b032-1dcaf78dd91f"
      },
      "source": [
        "df"
      ],
      "execution_count": null,
      "outputs": [
        {
          "output_type": "execute_result",
          "data": {
            "text/html": [
              "<div>\n",
              "<style scoped>\n",
              "    .dataframe tbody tr th:only-of-type {\n",
              "        vertical-align: middle;\n",
              "    }\n",
              "\n",
              "    .dataframe tbody tr th {\n",
              "        vertical-align: top;\n",
              "    }\n",
              "\n",
              "    .dataframe thead th {\n",
              "        text-align: right;\n",
              "    }\n",
              "</style>\n",
              "<table border=\"1\" class=\"dataframe\">\n",
              "  <thead>\n",
              "    <tr style=\"text-align: right;\">\n",
              "      <th></th>\n",
              "      <th>0</th>\n",
              "      <th>1</th>\n",
              "      <th>2</th>\n",
              "      <th>3</th>\n",
              "      <th>4</th>\n",
              "    </tr>\n",
              "  </thead>\n",
              "  <tbody>\n",
              "    <tr>\n",
              "      <th>0</th>\n",
              "      <td>0.296296</td>\n",
              "      <td>0.625000</td>\n",
              "      <td>0.097561</td>\n",
              "      <td>0.058824</td>\n",
              "      <td>0.0</td>\n",
              "    </tr>\n",
              "    <tr>\n",
              "      <th>1</th>\n",
              "      <td>0.222222</td>\n",
              "      <td>0.416667</td>\n",
              "      <td>0.097561</td>\n",
              "      <td>0.058824</td>\n",
              "      <td>0.0</td>\n",
              "    </tr>\n",
              "    <tr>\n",
              "      <th>2</th>\n",
              "      <td>0.148148</td>\n",
              "      <td>0.500000</td>\n",
              "      <td>0.073171</td>\n",
              "      <td>0.058824</td>\n",
              "      <td>0.0</td>\n",
              "    </tr>\n",
              "    <tr>\n",
              "      <th>3</th>\n",
              "      <td>0.111111</td>\n",
              "      <td>0.458333</td>\n",
              "      <td>0.121951</td>\n",
              "      <td>0.058824</td>\n",
              "      <td>0.0</td>\n",
              "    </tr>\n",
              "    <tr>\n",
              "      <th>4</th>\n",
              "      <td>0.259259</td>\n",
              "      <td>0.666667</td>\n",
              "      <td>0.097561</td>\n",
              "      <td>0.058824</td>\n",
              "      <td>0.0</td>\n",
              "    </tr>\n",
              "    <tr>\n",
              "      <th>...</th>\n",
              "      <td>...</td>\n",
              "      <td>...</td>\n",
              "      <td>...</td>\n",
              "      <td>...</td>\n",
              "      <td>...</td>\n",
              "    </tr>\n",
              "    <tr>\n",
              "      <th>95</th>\n",
              "      <td>0.518519</td>\n",
              "      <td>0.416667</td>\n",
              "      <td>0.780488</td>\n",
              "      <td>0.647059</td>\n",
              "      <td>1.0</td>\n",
              "    </tr>\n",
              "    <tr>\n",
              "      <th>96</th>\n",
              "      <td>0.518519</td>\n",
              "      <td>0.375000</td>\n",
              "      <td>0.780488</td>\n",
              "      <td>0.705882</td>\n",
              "      <td>1.0</td>\n",
              "    </tr>\n",
              "    <tr>\n",
              "      <th>97</th>\n",
              "      <td>0.703704</td>\n",
              "      <td>0.375000</td>\n",
              "      <td>0.804878</td>\n",
              "      <td>0.705882</td>\n",
              "      <td>1.0</td>\n",
              "    </tr>\n",
              "    <tr>\n",
              "      <th>98</th>\n",
              "      <td>0.296296</td>\n",
              "      <td>0.208333</td>\n",
              "      <td>0.487805</td>\n",
              "      <td>0.588235</td>\n",
              "      <td>1.0</td>\n",
              "    </tr>\n",
              "    <tr>\n",
              "      <th>99</th>\n",
              "      <td>0.518519</td>\n",
              "      <td>0.333333</td>\n",
              "      <td>0.756098</td>\n",
              "      <td>0.705882</td>\n",
              "      <td>1.0</td>\n",
              "    </tr>\n",
              "  </tbody>\n",
              "</table>\n",
              "<p>100 rows × 5 columns</p>\n",
              "</div>"
            ],
            "text/plain": [
              "           0         1         2         3    4\n",
              "0   0.296296  0.625000  0.097561  0.058824  0.0\n",
              "1   0.222222  0.416667  0.097561  0.058824  0.0\n",
              "2   0.148148  0.500000  0.073171  0.058824  0.0\n",
              "3   0.111111  0.458333  0.121951  0.058824  0.0\n",
              "4   0.259259  0.666667  0.097561  0.058824  0.0\n",
              "..       ...       ...       ...       ...  ...\n",
              "95  0.518519  0.416667  0.780488  0.647059  1.0\n",
              "96  0.518519  0.375000  0.780488  0.705882  1.0\n",
              "97  0.703704  0.375000  0.804878  0.705882  1.0\n",
              "98  0.296296  0.208333  0.487805  0.588235  1.0\n",
              "99  0.518519  0.333333  0.756098  0.705882  1.0\n",
              "\n",
              "[100 rows x 5 columns]"
            ]
          },
          "metadata": {},
          "execution_count": 173
        }
      ]
    },
    {
      "cell_type": "code",
      "metadata": {
        "id": "oj7rjn5nhnB3"
      },
      "source": [
        "import math"
      ],
      "execution_count": null,
      "outputs": []
    },
    {
      "cell_type": "code",
      "metadata": {
        "id": "tew5ciHLcxxN"
      },
      "source": [
        "def hypothesis(w,x):\n",
        "  y=w[0]\n",
        "  for i in range(4):\n",
        "    y = y + np.array(w[i+1])*x[:,i]\n",
        "  gx = 1/(1+(math.e)**(-1*y))\n",
        "  return gx"
      ],
      "execution_count": null,
      "outputs": []
    },
    {
      "cell_type": "code",
      "metadata": {
        "id": "ddPYsBOYdL69"
      },
      "source": [
        "def mse(w,x_dataset, y_dataset):\n",
        "  t =  np.mean((hypothesis(w,x_dataset)-y_dataset)**2)/2\n",
        "  return t"
      ],
      "execution_count": null,
      "outputs": []
    },
    {
      "cell_type": "code",
      "metadata": {
        "id": "zQV8-1chrJ8u"
      },
      "source": [
        "def logfun(arr):\n",
        "  lst = []\n",
        "  for i in range(len(arr)):\n",
        "    lst.append(math.log(arr[i]))\n",
        "  return np.array(lst)"
      ],
      "execution_count": null,
      "outputs": []
    },
    {
      "cell_type": "code",
      "metadata": {
        "id": "-O3Gh3vjgo-9"
      },
      "source": [
        "def logLoss(w,x_dataset,y_dataset):\n",
        "  hx = hypothesis(w,x_dataset)\n",
        "  y = np.mean(((-1*y_dataset*logfun(hx)) - ((1-y_dataset)*logfun(1-hx))))\n",
        "  return y"
      ],
      "execution_count": null,
      "outputs": []
    },
    {
      "cell_type": "code",
      "metadata": {
        "id": "B562nJw2iYQM"
      },
      "source": [
        "def update_coeff(w,indx,alpha,x_dataset,y_dataset,hx):\n",
        "  if indx is 0:\n",
        "    xij = 1\n",
        "  else:\n",
        "    xij = x_dataset[:,indx-1]\n",
        "  wj = w[indx] - np.sum(((hx - y_dataset)*xij))*(alpha/len(x_dataset))\n",
        "  return wj"
      ],
      "execution_count": null,
      "outputs": []
    },
    {
      "cell_type": "code",
      "metadata": {
        "id": "NQ4MryKKjWuU"
      },
      "source": [
        "def print_mse(dataset,alpha,rho,epoch):\n",
        "  x = np.array(dataset.iloc[:,:4])\n",
        "  y = np.array(dataset.iloc[:,4:])\n",
        "  i=0\n",
        "  diff=9999999\n",
        "  current_mse=9999999\n",
        "  while diff>rho and i < epoch:\n",
        "    hx = hypothesis(w,x)\n",
        "    w0 = update_coeff(w,0,alpha,x,y,hx)\n",
        "    w1 = update_coeff(w,1,alpha,x,y,hx)\n",
        "    w2 = update_coeff(w,2,alpha,x,y,hx)\n",
        "    w3 = update_coeff(w,3,alpha,x,y,hx)\n",
        "    w4 = update_coeff(w,4,alpha,x,y,hx)\n",
        "    w[0] = w0\n",
        "    w[1] = w1\n",
        "    w[2] =w2\n",
        "    w[3] = w3\n",
        "    w[4] = w4\n",
        "    i = i+1\n",
        "    temp = mse(w,x,y)\n",
        "    diff = current_mse - temp\n",
        "    current_mse = temp\n",
        "  current_mse = mse(w,x,y)\n",
        "  print(\"MSE for\",\"Learning rate : {}\".format(alpha),\"rho : {}\".format(rho),\"epoch : {}\".format(epoch),\"is\",current_mse)\n",
        "  #return current_mse\n"
      ],
      "execution_count": null,
      "outputs": []
    },
    {
      "cell_type": "code",
      "metadata": {
        "id": "4Qdgw5F0vVsT"
      },
      "source": [
        "def print_logloss(dataset,alpha,rho,epoch):\n",
        "  x = np.array(dataset.iloc[:,:4])\n",
        "  y = np.array(dataset.iloc[:,4:])\n",
        "  i=0\n",
        "  diff=9999999\n",
        "  current_logloss=9999999\n",
        "  while diff > rho and i < epoch:\n",
        "    hx = hypothesis(w,x)\n",
        "    w0 = update_coeff(w,0,alpha,x,y,hx)\n",
        "    w1 = update_coeff(w,1,alpha,x,y,hx)\n",
        "    w2 = update_coeff(w,2,alpha,x,y,hx)\n",
        "    w3 = update_coeff(w,3,alpha,x,y,hx)\n",
        "    w4 = update_coeff(w,4,alpha,x,y,hx)\n",
        "    w[0] = w0\n",
        "    w[1] = w1\n",
        "    w[2] =w2\n",
        "    w[3] = w3\n",
        "    w[4] = w4\n",
        "    i = i+1\n",
        "    temp = logLoss(w,x,y)\n",
        "    diff = current_logloss - temp\n",
        "    current_logloss = temp\n",
        "  current_logloss = logLoss(w,x,y)\n",
        "  print(\"Log Loss for\",\"Learning rate : {}\".format(alpha),\"rho : {}\".format(rho),\"epoch : {}\".format(epoch),\"is\",current_logloss)\n",
        "  #return current_mse"
      ],
      "execution_count": null,
      "outputs": []
    },
    {
      "cell_type": "code",
      "metadata": {
        "colab": {
          "base_uri": "https://localhost:8080/"
        },
        "id": "NywqnXicpQB0",
        "outputId": "6f8d695f-7057-41e8-8303-cf4234accbc2"
      },
      "source": [
        "w = [1,1,1,1,1]\n",
        "print_mse(validation,0.1,0.1,10)\n",
        "w = [1,1,1,1,1]\n",
        "print_mse(validation,0.01,0.01,20)\n",
        "w = [1,1,1,1,1]\n",
        "print_mse(validation,0.05,0.01,30)\n",
        "w = [1,1,1,1,1]\n",
        "print_mse(validation,0.001,0.01,40)\n",
        "w = [1,1,1,1,1]\n",
        "print_mse(validation,0.2,0.01,40)\n",
        "w = [1,1,1,1,1]\n",
        "print_mse(validation,0.05,0.001,40)"
      ],
      "execution_count": null,
      "outputs": [
        {
          "output_type": "stream",
          "name": "stdout",
          "text": [
            "MSE for Learning rate : 0.1 rho : 0.1 epoch : 10 is 0.1279874094857084\n",
            "MSE for Learning rate : 0.01 rho : 0.01 epoch : 20 is 0.20004013000050236\n",
            "MSE for Learning rate : 0.05 rho : 0.01 epoch : 30 is 0.12605278723781993\n",
            "MSE for Learning rate : 0.001 rho : 0.01 epoch : 40 is 0.21600180938245336\n",
            "MSE for Learning rate : 0.2 rho : 0.01 epoch : 40 is 0.2280170962134315\n",
            "MSE for Learning rate : 0.05 rho : 0.001 epoch : 40 is 0.12587195395154588\n"
          ]
        }
      ]
    },
    {
      "cell_type": "code",
      "metadata": {
        "colab": {
          "base_uri": "https://localhost:8080/"
        },
        "id": "t6vA85gNpkjU",
        "outputId": "c1c15fc2-c09b-4bcb-fa06-4e2eb2e8e33f"
      },
      "source": [
        "w = [1,1,1,1,1]\n",
        "print_logloss(validation,0.1,0.1,10)\n",
        "w = [1,1,1,1,1]\n",
        "print_logloss(validation,0.01,0.01,20)\n",
        "w = [1,1,1,1,1]\n",
        "print_logloss(validation,0.05,0.01,30)\n",
        "w = [1,1,1,1,1]\n",
        "print_logloss(validation,0.001,0.01,40)\n",
        "w = [1,1,1,1,1]\n",
        "print_logloss(validation,0.2,0.01,40)\n",
        "w = [1,1,1,1,1]\n",
        "print_logloss(validation,0.05,0.001,40)"
      ],
      "execution_count": null,
      "outputs": [
        {
          "output_type": "stream",
          "name": "stdout",
          "text": [
            "Log Loss for Learning rate : 0.1 rho : 0.1 epoch : 10 is 0.7054640481475224\n",
            "Log Loss for Learning rate : 0.01 rho : 0.01 epoch : 20 is 0.7168981230419927\n",
            "Log Loss for Learning rate : 0.05 rho : 0.01 epoch : 30 is 0.6973908397742963\n",
            "Log Loss for Learning rate : 0.001 rho : 0.01 epoch : 40 is 1.1097636779735534\n",
            "Log Loss for Learning rate : 0.2 rho : 0.01 epoch : 40 is 1.6922327499499108\n",
            "Log Loss for Learning rate : 0.05 rho : 0.001 epoch : 40 is 0.6966575204029707\n"
          ]
        }
      ]
    },
    {
      "cell_type": "code",
      "metadata": {
        "colab": {
          "base_uri": "https://localhost:8080/"
        },
        "id": "9V6M9SsE1uHw",
        "outputId": "4cf38c13-5033-4bb1-8885-debf50d551a1"
      },
      "source": [
        "w = [1,1,1,1,1]\n",
        "print_logloss(validation,0.05,0.01,100)"
      ],
      "execution_count": null,
      "outputs": [
        {
          "output_type": "stream",
          "name": "stdout",
          "text": [
            "Log Loss for Learning rate : 0.05 rho : 0.01 epoch : 100 is 0.6973908397742963\n"
          ]
        }
      ]
    },
    {
      "cell_type": "code",
      "metadata": {
        "id": "En8VjdJyx0I4"
      },
      "source": [
        "dff = pd.DataFrame(threshold(hypothesis(w,np.array(validation.iloc[:,:4]))),columns=[\"hypothesis\"])\n",
        "dff[\"Actual\"] = np.array(validation.iloc[:,4:])"
      ],
      "execution_count": null,
      "outputs": []
    },
    {
      "cell_type": "code",
      "metadata": {
        "id": "l3FcPNso9FvE"
      },
      "source": [
        "dff"
      ],
      "execution_count": null,
      "outputs": []
    },
    {
      "cell_type": "code",
      "metadata": {
        "id": "pbD7rkSlyN30"
      },
      "source": [
        "def threshold(arr):\n",
        "  lst = []\n",
        "  for i in range(len(arr)):\n",
        "    if arr[i] >= 0.5:\n",
        "      lst.append(1)\n",
        "    else:\n",
        "      lst.append(0)\n",
        "  return lst"
      ],
      "execution_count": null,
      "outputs": []
    },
    {
      "cell_type": "code",
      "metadata": {
        "id": "FHgI1fNpyOW7"
      },
      "source": [
        "import matplotlib.pyplot as plt\n"
      ],
      "execution_count": null,
      "outputs": []
    },
    {
      "cell_type": "code",
      "metadata": {
        "colab": {
          "base_uri": "https://localhost:8080/",
          "height": 282
        },
        "id": "kHxAyVLa_eSD",
        "outputId": "48600efb-e5f7-464c-c141-c8af3fb3eb12"
      },
      "source": [
        "plt.scatter(range(40),np.array(validation.iloc[:,4:]))\n",
        "plt.scatter(range(40),threshold(hypothesis(w,np.array(validation.iloc[:,:4]))))"
      ],
      "execution_count": null,
      "outputs": [
        {
          "output_type": "execute_result",
          "data": {
            "text/plain": [
              "<matplotlib.collections.PathCollection at 0x7f13510e2a90>"
            ]
          },
          "metadata": {},
          "execution_count": 203
        },
        {
          "output_type": "display_data",
          "data": {
            "image/png": "[encoded data removed]",
            "text/plain": [
              "<Figure size 432x288 with 1 Axes>"
            ]
          },
          "metadata": {
            "needs_background": "light"
          }
        }
      ]
    },
    {
      "cell_type": "code",
      "metadata": {
        "colab": {
          "base_uri": "https://localhost:8080/",
          "height": 282
        },
        "id": "OUcOVRYZAdh0",
        "outputId": "f42db4f5-f017-48eb-c9fb-ff3119edb78f"
      },
      "source": [
        "plt.scatter(range(30),np.array(train.iloc[:,4:]))\n",
        "plt.scatter(range(30),threshold(hypothesis(w,np.array(train.iloc[:,:4]))))"
      ],
      "execution_count": null,
      "outputs": [
        {
          "output_type": "execute_result",
          "data": {
            "text/plain": [
              "<matplotlib.collections.PathCollection at 0x7f1350fe1ad0>"
            ]
          },
          "metadata": {},
          "execution_count": 204
        },
        {
          "output_type": "display_data",
          "data": {
            "image/png": "[encoded data removed]",
            "text/plain": [
              "<Figure size 432x288 with 1 Axes>"
            ]
          },
          "metadata": {
            "needs_background": "light"
          }
        }
      ]
    },
    {
      "cell_type": "code",
      "metadata": {
        "colab": {
          "base_uri": "https://localhost:8080/",
          "height": 282
        },
        "id": "4tsQibwsA_lZ",
        "outputId": "71f50845-94cd-4604-92b1-7a6f85203168"
      },
      "source": [
        "plt.scatter(range(30),np.array(test.iloc[:,4:]))\n",
        "plt.scatter(range(30),threshold(hypothesis(w,np.array(test.iloc[:,:4]))))"
      ],
      "execution_count": null,
      "outputs": [
        {
          "output_type": "execute_result",
          "data": {
            "text/plain": [
              "<matplotlib.collections.PathCollection at 0x7f1350f4fd90>"
            ]
          },
          "metadata": {},
          "execution_count": 205
        },
        {
          "output_type": "display_data",
          "data": {
            "image/png": "[encoded data removed]",
            "text/plain": [
              "<Figure size 432x288 with 1 Axes>"
            ]
          },
          "metadata": {
            "needs_background": "light"
          }
        }
      ]
    },
    {
      "cell_type": "code",
      "metadata": {
        "id": "L7kihuBuBEmi"
      },
      "source": [
        ""
      ],
      "execution_count": null,
      "outputs": []
    }
  ]
}